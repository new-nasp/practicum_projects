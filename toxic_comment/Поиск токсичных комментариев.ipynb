{
 "cells": [
  {
   "cell_type": "markdown",
   "id": "d3991c1d",
   "metadata": {},
   "source": [
    "# Проект для Викишоп \n",
    "\n",
    "**Описание проекта:**\n",
    "\n",
    "Интернет-магазин «Викишоп» запускает новый сервис. Теперь пользователи могут редактировать и дополнять описания товаров, как в вики-сообществах. То есть клиенты предлагают свои правки и комментируют изменения других. Магазину нужен инструмент, который будет искать токсичные комментарии и отправлять их на модерацию. \n",
    "\n",
    "**Цель проекта:**\n",
    "\n",
    "Создать модель, способную квалифицировать комментарии на позитивные и негативные.\n",
    "\n",
    "**Задачи проекта:**\n",
    "1. Обработать и подготовить набор данных для модели\n",
    "2. Обучить модель на тренировочной выборке \n",
    "3. Проверить работу модели на тестовой выборке: результат метрики F1 должен быть не менее 0.75.\n",
    "\n",
    "**План проекта:**\n",
    "1. Предварительное ознакомление с данными.\n",
    "2. Подготовка данных.\n",
    "3. Подбор модели."
   ]
  },
  {
   "cell_type": "markdown",
   "id": "04d4fbc0",
   "metadata": {},
   "source": [
    "## 1. Предварительное ознакомление с данными."
   ]
  },
  {
   "cell_type": "markdown",
   "id": "38d8562e",
   "metadata": {},
   "source": [
    "Скачаем наш датасет и выведем первые строки."
   ]
  },
  {
   "cell_type": "code",
   "execution_count": 1,
   "id": "75c52496",
   "metadata": {},
   "outputs": [],
   "source": [
    "#импортируем необходимые для работы библиотеки\n",
    "\n",
    "import os\n",
    "import pandas as pd\n",
    "import nltk\n",
    "import re\n",
    "import matplotlib.pyplot as plt\n",
    "\n",
    "\n",
    "from nltk.tokenize import word_tokenize \n",
    "from nltk.stem import WordNetLemmatizer \n",
    "from nltk.corpus import stopwords \n",
    "from nltk import pos_tag\n",
    "\n",
    "from sklearn.feature_extraction.text import TfidfVectorizer\n",
    "from sklearn.linear_model import  LogisticRegression\n",
    "from sklearn.tree import DecisionTreeClassifier\n",
    "from sklearn.metrics import f1_score\n",
    "from sklearn.model_selection import GridSearchCV, cross_val_score, train_test_split\n",
    "from sklearn.naive_bayes import MultinomialNB\n",
    "from sklearn.pipeline import Pipeline\n",
    "\n",
    "from tqdm import tqdm"
   ]
  },
  {
   "cell_type": "code",
   "execution_count": 2,
   "id": "b77ceb68",
   "metadata": {},
   "outputs": [],
   "source": [
    "pth1 = '/datasets/toxic_comments.csv'\n",
    "pth2 = 'toxic_comments.csv'\n",
    "\n",
    "if os.path.exists(pth1):\n",
    "    text = pd.read_csv(pth1)\n",
    "elif os.path.exists(pth2):\n",
    "    text = pd.read_csv(pth2)\n",
    "else:\n",
    "    print('Something is wrong')"
   ]
  },
  {
   "cell_type": "code",
   "execution_count": 3,
   "id": "001f85d0",
   "metadata": {},
   "outputs": [
    {
     "data": {
      "text/html": [
       "<div>\n",
       "<style scoped>\n",
       "    .dataframe tbody tr th:only-of-type {\n",
       "        vertical-align: middle;\n",
       "    }\n",
       "\n",
       "    .dataframe tbody tr th {\n",
       "        vertical-align: top;\n",
       "    }\n",
       "\n",
       "    .dataframe thead th {\n",
       "        text-align: right;\n",
       "    }\n",
       "</style>\n",
       "<table border=\"1\" class=\"dataframe\">\n",
       "  <thead>\n",
       "    <tr style=\"text-align: right;\">\n",
       "      <th></th>\n",
       "      <th>Unnamed: 0</th>\n",
       "      <th>text</th>\n",
       "      <th>toxic</th>\n",
       "    </tr>\n",
       "  </thead>\n",
       "  <tbody>\n",
       "    <tr>\n",
       "      <th>0</th>\n",
       "      <td>0</td>\n",
       "      <td>Explanation\\nWhy the edits made under my usern...</td>\n",
       "      <td>0</td>\n",
       "    </tr>\n",
       "    <tr>\n",
       "      <th>1</th>\n",
       "      <td>1</td>\n",
       "      <td>D'aww! He matches this background colour I'm s...</td>\n",
       "      <td>0</td>\n",
       "    </tr>\n",
       "    <tr>\n",
       "      <th>2</th>\n",
       "      <td>2</td>\n",
       "      <td>Hey man, I'm really not trying to edit war. It...</td>\n",
       "      <td>0</td>\n",
       "    </tr>\n",
       "    <tr>\n",
       "      <th>3</th>\n",
       "      <td>3</td>\n",
       "      <td>\"\\nMore\\nI can't make any real suggestions on ...</td>\n",
       "      <td>0</td>\n",
       "    </tr>\n",
       "    <tr>\n",
       "      <th>4</th>\n",
       "      <td>4</td>\n",
       "      <td>You, sir, are my hero. Any chance you remember...</td>\n",
       "      <td>0</td>\n",
       "    </tr>\n",
       "  </tbody>\n",
       "</table>\n",
       "</div>"
      ],
      "text/plain": [
       "   Unnamed: 0                                               text  toxic\n",
       "0           0  Explanation\\nWhy the edits made under my usern...      0\n",
       "1           1  D'aww! He matches this background colour I'm s...      0\n",
       "2           2  Hey man, I'm really not trying to edit war. It...      0\n",
       "3           3  \"\\nMore\\nI can't make any real suggestions on ...      0\n",
       "4           4  You, sir, are my hero. Any chance you remember...      0"
      ]
     },
     "execution_count": 3,
     "metadata": {},
     "output_type": "execute_result"
    }
   ],
   "source": [
    "text.head()"
   ]
  },
  {
   "cell_type": "markdown",
   "id": "f84a302a",
   "metadata": {},
   "source": [
    "Целевой признак хранится в столбце toxic. Во втором столбце text содержится входящий признак - комментарий пользователя. Посмотрим на размер датасета."
   ]
  },
  {
   "cell_type": "code",
   "execution_count": 4,
   "id": "593bdaca",
   "metadata": {},
   "outputs": [
    {
     "data": {
      "text/plain": [
       "(159292, 3)"
      ]
     },
     "execution_count": 4,
     "metadata": {},
     "output_type": "execute_result"
    }
   ],
   "source": [
    "text.shape"
   ]
  },
  {
   "cell_type": "code",
   "execution_count": 5,
   "id": "47da60b4",
   "metadata": {},
   "outputs": [
    {
     "name": "stdout",
     "output_type": "stream",
     "text": [
      "<class 'pandas.core.frame.DataFrame'>\n",
      "RangeIndex: 159292 entries, 0 to 159291\n",
      "Data columns (total 3 columns):\n",
      " #   Column      Non-Null Count   Dtype \n",
      "---  ------      --------------   ----- \n",
      " 0   Unnamed: 0  159292 non-null  int64 \n",
      " 1   text        159292 non-null  object\n",
      " 2   toxic       159292 non-null  int64 \n",
      "dtypes: int64(2), object(1)\n",
      "memory usage: 3.6+ MB\n"
     ]
    }
   ],
   "source": [
    "text.info()"
   ]
  },
  {
   "cell_type": "markdown",
   "id": "0023468b",
   "metadata": {},
   "source": [
    "Наш датасет содержит 159292 строки и три столбца. пропусков в данных нет. Первый столбец - с нумерацией строк для работы нашей модели будет не нужен, его можно удалить."
   ]
  },
  {
   "cell_type": "code",
   "execution_count": 6,
   "id": "f2f25f45",
   "metadata": {},
   "outputs": [
    {
     "data": {
      "text/html": [
       "<div>\n",
       "<style scoped>\n",
       "    .dataframe tbody tr th:only-of-type {\n",
       "        vertical-align: middle;\n",
       "    }\n",
       "\n",
       "    .dataframe tbody tr th {\n",
       "        vertical-align: top;\n",
       "    }\n",
       "\n",
       "    .dataframe thead th {\n",
       "        text-align: right;\n",
       "    }\n",
       "</style>\n",
       "<table border=\"1\" class=\"dataframe\">\n",
       "  <thead>\n",
       "    <tr style=\"text-align: right;\">\n",
       "      <th></th>\n",
       "      <th>text</th>\n",
       "      <th>toxic</th>\n",
       "    </tr>\n",
       "  </thead>\n",
       "  <tbody>\n",
       "    <tr>\n",
       "      <th>0</th>\n",
       "      <td>Explanation\\nWhy the edits made under my usern...</td>\n",
       "      <td>0</td>\n",
       "    </tr>\n",
       "    <tr>\n",
       "      <th>1</th>\n",
       "      <td>D'aww! He matches this background colour I'm s...</td>\n",
       "      <td>0</td>\n",
       "    </tr>\n",
       "    <tr>\n",
       "      <th>2</th>\n",
       "      <td>Hey man, I'm really not trying to edit war. It...</td>\n",
       "      <td>0</td>\n",
       "    </tr>\n",
       "    <tr>\n",
       "      <th>3</th>\n",
       "      <td>\"\\nMore\\nI can't make any real suggestions on ...</td>\n",
       "      <td>0</td>\n",
       "    </tr>\n",
       "    <tr>\n",
       "      <th>4</th>\n",
       "      <td>You, sir, are my hero. Any chance you remember...</td>\n",
       "      <td>0</td>\n",
       "    </tr>\n",
       "  </tbody>\n",
       "</table>\n",
       "</div>"
      ],
      "text/plain": [
       "                                                text  toxic\n",
       "0  Explanation\\nWhy the edits made under my usern...      0\n",
       "1  D'aww! He matches this background colour I'm s...      0\n",
       "2  Hey man, I'm really not trying to edit war. It...      0\n",
       "3  \"\\nMore\\nI can't make any real suggestions on ...      0\n",
       "4  You, sir, are my hero. Any chance you remember...      0"
      ]
     },
     "execution_count": 6,
     "metadata": {},
     "output_type": "execute_result"
    }
   ],
   "source": [
    "text = text.drop(['Unnamed: 0'], axis=1)\n",
    "text.head()"
   ]
  },
  {
   "cell_type": "markdown",
   "id": "f4b1e362",
   "metadata": {},
   "source": [
    "Проверим наличие строк-дубликатов."
   ]
  },
  {
   "cell_type": "code",
   "execution_count": 7,
   "id": "fda5b419",
   "metadata": {},
   "outputs": [
    {
     "data": {
      "text/plain": [
       "0"
      ]
     },
     "execution_count": 7,
     "metadata": {},
     "output_type": "execute_result"
    }
   ],
   "source": [
    "text.duplicated().sum()"
   ]
  },
  {
   "cell_type": "markdown",
   "id": "94595a29",
   "metadata": {},
   "source": [
    "Дубликатов в нашем датасете нет, все записи уникальны.\n",
    "\n",
    "Посмотрим на распределение целевого признака."
   ]
  },
  {
   "cell_type": "code",
   "execution_count": 8,
   "id": "82af9716",
   "metadata": {
    "scrolled": true
   },
   "outputs": [
    {
     "data": {
      "image/png": "[encoded data removed]",
      "text/plain": [
       "<Figure size 400x400 with 1 Axes>"
      ]
     },
     "metadata": {},
     "output_type": "display_data"
    }
   ],
   "source": [
    "text['toxic'].value_counts().plot(kind='pie', autopct='%1.1f%%', figsize=(4,4))\n",
    "plt.title('Распределение целевого признака в долях');"
   ]
  },
  {
   "cell_type": "markdown",
   "id": "a75c98d3",
   "metadata": {},
   "source": [
    "Целевой признак представлен неравномерно, чаще присутствуют отрицательные комментарии, чем положительные. Это нужно будет учесть при обучении модели."
   ]
  },
  {
   "cell_type": "markdown",
   "id": "3dafa379",
   "metadata": {},
   "source": [
    "## 2. Подготовка данных"
   ]
  },
  {
   "cell_type": "markdown",
   "id": "54801af6",
   "metadata": {},
   "source": [
    "Сначала лемматизируем наш датасет."
   ]
  },
  {
   "cell_type": "code",
   "execution_count": 9,
   "id": "6d978b5e",
   "metadata": {},
   "outputs": [
    {
     "name": "stderr",
     "output_type": "stream",
     "text": [
      "[nltk_data] Downloading package stopwords to C:\\Users\\Роман\n",
      "[nltk_data]     Полицинский\\AppData\\Roaming\\nltk_data...\n",
      "[nltk_data]   Package stopwords is already up-to-date!\n"
     ]
    },
    {
     "data": {
      "text/plain": [
       "True"
      ]
     },
     "execution_count": 9,
     "metadata": {},
     "output_type": "execute_result"
    }
   ],
   "source": [
    "# Загрузим список \"стоп-слов\"\n",
    "nltk.download('stopwords')"
   ]
  },
  {
   "cell_type": "code",
   "execution_count": 10,
   "id": "12cd1239",
   "metadata": {},
   "outputs": [],
   "source": [
    "stop_words = set(stopwords.words('english'))"
   ]
  },
  {
   "cell_type": "code",
   "execution_count": 11,
   "id": "c565d856",
   "metadata": {},
   "outputs": [],
   "source": [
    "lemmatizer = WordNetLemmatizer()"
   ]
  },
  {
   "cell_type": "code",
   "execution_count": 12,
   "id": "9c7c0721",
   "metadata": {},
   "outputs": [
    {
     "name": "stderr",
     "output_type": "stream",
     "text": [
      "[nltk_data] Downloading package averaged_perceptron_tagger to\n",
      "[nltk_data]     C:\\Users\\Роман\n",
      "[nltk_data]     Полицинский\\AppData\\Roaming\\nltk_data...\n",
      "[nltk_data]   Package averaged_perceptron_tagger is already up-to-\n",
      "[nltk_data]       date!\n"
     ]
    },
    {
     "data": {
      "text/plain": [
       "True"
      ]
     },
     "execution_count": 12,
     "metadata": {},
     "output_type": "execute_result"
    }
   ],
   "source": [
    "nltk.download('averaged_perceptron_tagger')"
   ]
  },
  {
   "cell_type": "code",
   "execution_count": 13,
   "id": "dd9169a4",
   "metadata": {},
   "outputs": [],
   "source": [
    "def get_postag(penntag):\n",
    "    \"\"\" Converts Penn Treebank tags to WordNet. \"\"\"\n",
    "    morphy_tag = {'NN':'n', 'JJ':'a',\n",
    "                  'VB':'v', 'RB':'r'}\n",
    "    try:\n",
    "        return morphy_tag[penntag[:2]]\n",
    "    except:\n",
    "        return 'n' "
   ]
  },
  {
   "cell_type": "code",
   "execution_count": 14,
   "id": "8ab83665",
   "metadata": {},
   "outputs": [],
   "source": [
    "#Создадим функцию для токкенизации и лемматизации текста\n",
    "def prepare(text):\n",
    "    text = re.sub(r'[^a-zA-z ]', ' ', text)\n",
    "    text = ' '.join(lemmatizer.lemmatize(word.lower(), pos=get_postag(tag)) \n",
    "            for word, tag in pos_tag(word_tokenize(text)))\n",
    "    return text"
   ]
  },
  {
   "cell_type": "code",
   "execution_count": 15,
   "id": "5dc2d448",
   "metadata": {},
   "outputs": [
    {
     "name": "stderr",
     "output_type": "stream",
     "text": [
      "100%|█████████████████████████████████████████████████████████████████████████| 159292/159292 [13:14<00:00, 200.58it/s]\n"
     ]
    }
   ],
   "source": [
    "# Применим функцию к входящим признакам\n",
    "tqdm.pandas()\n",
    "corpus = text['text'].progress_apply(lambda x: prepare(x))"
   ]
  },
  {
   "cell_type": "code",
   "execution_count": 16,
   "id": "81499297",
   "metadata": {
    "scrolled": true
   },
   "outputs": [
    {
     "data": {
      "text/plain": [
       "0    explanation why the edits make under my userna...\n",
       "1    d aww he match this background colour i m seem...\n",
       "2    hey man i m really not try to edit war it s ju...\n",
       "3    more i can t make any real suggestion on impro...\n",
       "4    you sir be my hero any chance you remember wha...\n",
       "Name: text, dtype: object"
      ]
     },
     "execution_count": 16,
     "metadata": {},
     "output_type": "execute_result"
    }
   ],
   "source": [
    "corpus.head()"
   ]
  },
  {
   "cell_type": "code",
   "execution_count": 17,
   "id": "68bf1d38",
   "metadata": {},
   "outputs": [],
   "source": [
    "RANDOM_STATE=11"
   ]
  },
  {
   "cell_type": "code",
   "execution_count": 18,
   "id": "3ddc01f1",
   "metadata": {},
   "outputs": [
    {
     "data": {
      "text/plain": [
       "((127433,), (31859,), (127433,), (31859,))"
      ]
     },
     "execution_count": 18,
     "metadata": {},
     "output_type": "execute_result"
    }
   ],
   "source": [
    "# Разделим дата сет на тренировочную и тестовую выборки в отношении 80:20\n",
    "X_train, X_test, y_train, y_test = train_test_split(\n",
    "corpus,\n",
    "text['toxic'],\n",
    "test_size=0.2,\n",
    "random_state=RANDOM_STATE    \n",
    ")\n",
    "X_train.shape, X_test.shape, y_train.shape, y_test.shape"
   ]
  },
  {
   "cell_type": "markdown",
   "id": "7407172b",
   "metadata": {},
   "source": [
    "## 3. Подбор модели."
   ]
  },
  {
   "cell_type": "markdown",
   "id": "6117d210",
   "metadata": {},
   "source": [
    "Поиск лучшей модели будем осуществлять через GridSearchCV. Для начала переберем простые модели: логистическую регрессию и дерево решений, затем попробуем мультиномиальную байесовскую модель."
   ]
  },
  {
   "cell_type": "code",
   "execution_count": 19,
   "id": "fc5d1cb0",
   "metadata": {},
   "outputs": [],
   "source": [
    "pipeline = Pipeline([\n",
    "    ('vect', TfidfVectorizer()),\n",
    "                    ('models', LogisticRegression(random_state=RANDOM_STATE,\n",
    "                                  solver = 'saga'))]\n",
    ")"
   ]
  },
  {
   "cell_type": "code",
   "execution_count": 20,
   "id": "61f3c6bc",
   "metadata": {},
   "outputs": [],
   "source": [
    "param_grid = [\n",
    "    {\n",
    "        'models': [LogisticRegression(random_state=RANDOM_STATE, solver='saga')],\n",
    "        'models__C': [5, 7, 10, 13, 15],\n",
    "        'models__penalty': ['l1', 'l2'],\n",
    "         \n",
    "    },\n",
    "{'models': [DecisionTreeClassifier(random_state=RANDOM_STATE, class_weight='balanced')],\n",
    " 'models__max_depth': [2,4,6],\n",
    " 'models__criterion':['gini','entropy']\n",
    "},\n",
    "{'models': [MultinomialNB()],\n",
    " 'models__alpha':[0.01, 0.5, 1]\n",
    "}\n",
    "]"
   ]
  },
  {
   "cell_type": "code",
   "execution_count": 21,
   "id": "17324321",
   "metadata": {
    "scrolled": false
   },
   "outputs": [
    {
     "name": "stdout",
     "output_type": "stream",
     "text": [
      "Результат метрики f1 лучшей модели на кросс-валидации 0.79\n",
      "Pipeline(steps=[('vect', TfidfVectorizer()),\n",
      "                ('models',\n",
      "                 LogisticRegression(C=5, penalty='l1', random_state=11,\n",
      "                                    solver='saga'))])\n"
     ]
    },
    {
     "name": "stderr",
     "output_type": "stream",
     "text": [
      "C:\\Users\\Роман Полицинский\\AppData\\Roaming\\Python\\Python311\\site-packages\\sklearn\\linear_model\\_sag.py:350: ConvergenceWarning: The max_iter was reached which means the coef_ did not converge\n",
      "  warnings.warn(\n"
     ]
    }
   ],
   "source": [
    "    gs = GridSearchCV(\n",
    "    pipeline,\n",
    "    param_grid,\n",
    "    cv=5,\n",
    "    n_jobs=-1,\n",
    "    scoring='f1')\n",
    "    \n",
    "    gs.fit(X_train, y_train)\n",
    "    print(f'Результат метрики f1 лучшей модели на кросс-валидации', round(gs.best_score_,2))\n",
    "    print(gs.best_estimator_)\n",
    "\n",
    "\n",
    "           "
   ]
  },
  {
   "cell_type": "code",
   "execution_count": 22,
   "id": "e065c726",
   "metadata": {},
   "outputs": [
    {
     "data": {
      "text/html": [
       "<div>\n",
       "<style scoped>\n",
       "    .dataframe tbody tr th:only-of-type {\n",
       "        vertical-align: middle;\n",
       "    }\n",
       "\n",
       "    .dataframe tbody tr th {\n",
       "        vertical-align: top;\n",
       "    }\n",
       "\n",
       "    .dataframe thead th {\n",
       "        text-align: right;\n",
       "    }\n",
       "</style>\n",
       "<table border=\"1\" class=\"dataframe\">\n",
       "  <thead>\n",
       "    <tr style=\"text-align: right;\">\n",
       "      <th></th>\n",
       "      <th>rank_test_score</th>\n",
       "      <th>param_models</th>\n",
       "      <th>mean_test_score</th>\n",
       "      <th>params</th>\n",
       "    </tr>\n",
       "  </thead>\n",
       "  <tbody>\n",
       "    <tr>\n",
       "      <th>0</th>\n",
       "      <td>1</td>\n",
       "      <td>LogisticRegression(random_state=11, solver='sa...</td>\n",
       "      <td>0.789073</td>\n",
       "      <td>{'models': LogisticRegression(random_state=11,...</td>\n",
       "    </tr>\n",
       "    <tr>\n",
       "      <th>2</th>\n",
       "      <td>2</td>\n",
       "      <td>LogisticRegression(random_state=11, solver='sa...</td>\n",
       "      <td>0.786226</td>\n",
       "      <td>{'models': LogisticRegression(random_state=11,...</td>\n",
       "    </tr>\n",
       "    <tr>\n",
       "      <th>5</th>\n",
       "      <td>3</td>\n",
       "      <td>LogisticRegression(random_state=11, solver='sa...</td>\n",
       "      <td>0.782910</td>\n",
       "      <td>{'models': LogisticRegression(random_state=11,...</td>\n",
       "    </tr>\n",
       "    <tr>\n",
       "      <th>9</th>\n",
       "      <td>4</td>\n",
       "      <td>LogisticRegression(random_state=11, solver='sa...</td>\n",
       "      <td>0.782505</td>\n",
       "      <td>{'models': LogisticRegression(random_state=11,...</td>\n",
       "    </tr>\n",
       "    <tr>\n",
       "      <th>7</th>\n",
       "      <td>5</td>\n",
       "      <td>LogisticRegression(random_state=11, solver='sa...</td>\n",
       "      <td>0.782250</td>\n",
       "      <td>{'models': LogisticRegression(random_state=11,...</td>\n",
       "    </tr>\n",
       "    <tr>\n",
       "      <th>4</th>\n",
       "      <td>6</td>\n",
       "      <td>LogisticRegression(random_state=11, solver='sa...</td>\n",
       "      <td>0.781521</td>\n",
       "      <td>{'models': LogisticRegression(random_state=11,...</td>\n",
       "    </tr>\n",
       "    <tr>\n",
       "      <th>3</th>\n",
       "      <td>7</td>\n",
       "      <td>LogisticRegression(random_state=11, solver='sa...</td>\n",
       "      <td>0.780581</td>\n",
       "      <td>{'models': LogisticRegression(random_state=11,...</td>\n",
       "    </tr>\n",
       "    <tr>\n",
       "      <th>6</th>\n",
       "      <td>8</td>\n",
       "      <td>LogisticRegression(random_state=11, solver='sa...</td>\n",
       "      <td>0.779619</td>\n",
       "      <td>{'models': LogisticRegression(random_state=11,...</td>\n",
       "    </tr>\n",
       "    <tr>\n",
       "      <th>8</th>\n",
       "      <td>9</td>\n",
       "      <td>LogisticRegression(random_state=11, solver='sa...</td>\n",
       "      <td>0.778659</td>\n",
       "      <td>{'models': LogisticRegression(random_state=11,...</td>\n",
       "    </tr>\n",
       "    <tr>\n",
       "      <th>1</th>\n",
       "      <td>10</td>\n",
       "      <td>LogisticRegression(random_state=11, solver='sa...</td>\n",
       "      <td>0.777016</td>\n",
       "      <td>{'models': LogisticRegression(random_state=11,...</td>\n",
       "    </tr>\n",
       "  </tbody>\n",
       "</table>\n",
       "</div>"
      ],
      "text/plain": [
       "   rank_test_score                                       param_models  \\\n",
       "0                1  LogisticRegression(random_state=11, solver='sa...   \n",
       "2                2  LogisticRegression(random_state=11, solver='sa...   \n",
       "5                3  LogisticRegression(random_state=11, solver='sa...   \n",
       "9                4  LogisticRegression(random_state=11, solver='sa...   \n",
       "7                5  LogisticRegression(random_state=11, solver='sa...   \n",
       "4                6  LogisticRegression(random_state=11, solver='sa...   \n",
       "3                7  LogisticRegression(random_state=11, solver='sa...   \n",
       "6                8  LogisticRegression(random_state=11, solver='sa...   \n",
       "8                9  LogisticRegression(random_state=11, solver='sa...   \n",
       "1               10  LogisticRegression(random_state=11, solver='sa...   \n",
       "\n",
       "   mean_test_score                                             params  \n",
       "0         0.789073  {'models': LogisticRegression(random_state=11,...  \n",
       "2         0.786226  {'models': LogisticRegression(random_state=11,...  \n",
       "5         0.782910  {'models': LogisticRegression(random_state=11,...  \n",
       "9         0.782505  {'models': LogisticRegression(random_state=11,...  \n",
       "7         0.782250  {'models': LogisticRegression(random_state=11,...  \n",
       "4         0.781521  {'models': LogisticRegression(random_state=11,...  \n",
       "3         0.780581  {'models': LogisticRegression(random_state=11,...  \n",
       "6         0.779619  {'models': LogisticRegression(random_state=11,...  \n",
       "8         0.778659  {'models': LogisticRegression(random_state=11,...  \n",
       "1         0.777016  {'models': LogisticRegression(random_state=11,...  "
      ]
     },
     "execution_count": 22,
     "metadata": {},
     "output_type": "execute_result"
    }
   ],
   "source": [
    "result = pd.DataFrame(gs.cv_results_)\n",
    "result[\n",
    "    ['rank_test_score', 'param_models', 'mean_test_score','params']\n",
    "].sort_values('rank_test_score').head(10) "
   ]
  },
  {
   "cell_type": "markdown",
   "id": "3005984b",
   "metadata": {},
   "source": [
    "В ходе проверки трех моделей лучшей оказалась модель логистической регресии с гиперпараметрами С=5 и penalty = 'l1' со значением метрики f1 при кросс-валидации 0,79.\n",
    "Проверим работу лучшей модели на тестовой выборке."
   ]
  },
  {
   "cell_type": "code",
   "execution_count": 23,
   "id": "8d77e4c4",
   "metadata": {},
   "outputs": [
    {
     "name": "stdout",
     "output_type": "stream",
     "text": [
      "Метрика f1 на тестовой выборке составляет 0.79\n"
     ]
    }
   ],
   "source": [
    "predictions = gs.best_estimator_.predict(X_test)\n",
    "print(f'Метрика f1 на тестовой выборке составляет {f1_score(y_test, predictions):.2f}')"
   ]
  },
  {
   "cell_type": "markdown",
   "id": "237f6e78",
   "metadata": {},
   "source": [
    "## Вывод:\n",
    "\n",
    "\n",
    "Целью нашей работы было построение модели, способной определять токсичные комментарии для дальнейшей модерации.\n",
    "В ходе работы мы провели предварительную обработку данных: данные были лемматизированы и токкенизированы с помощью библиотеки nltk. Проведена векторизация текстов с помощью TfidVectorized. \n",
    "\n",
    "Подготовленные данные были поделены на тренировочную и тестовую выборки в отношении 80%-20%. Мы проверили работу трех моделей: логистической регрессии, дерева решений и мультиноминальной байесовской модели. Перебор гиперпараметров моделей делали через GridSearchCV c помощью кросс-валидации. \n",
    "\n",
    "В итоге лучшей моделью оказалась модель логистической регрессии с гиперпараметрами C=5, penalty='l1', random_state=11, solver='saga'. Результат метрики f1 этой модели при кросс-валидации составил 0,79.\n",
    "Проверка модели на тестовых данных дала результат 0,79.\n"
   ]
  },
  {
   "cell_type": "code",
   "execution_count": null,
   "id": "b588887c",
   "metadata": {},
   "outputs": [],
   "source": []
  }
 ],
 "metadata": {
  "kernelspec": {
   "display_name": "Python 3 (ipykernel)",
   "language": "python",
   "name": "python3"
  },
  "language_info": {
   "codemirror_mode": {
    "name": "ipython",
    "version": 3
   },
   "file_extension": ".py",
   "mimetype": "text/x-python",
   "name": "python",
   "nbconvert_exporter": "python",
   "pygments_lexer": "ipython3",
   "version": "3.11.5"
  },
  "toc": {
   "base_numbering": 1,
   "nav_menu": {},
   "number_sections": true,
   "sideBar": true,
   "skip_h1_title": true,
   "title_cell": "Table of Contents",
   "title_sidebar": "Contents",
   "toc_cell": false,
   "toc_position": {
    "height": "calc(100% - 180px)",
    "left": "10px",
    "top": "150px",
    "width": "206px"
   },
   "toc_section_display": true,
   "toc_window_display": true
  }
 },
 "nbformat": 4,
 "nbformat_minor": 5
}
