{
 "cells": [
  {
   "cell_type": "markdown",
   "id": "5665f26e-6a86-4dab-ac1a-f9d443f8f427",
   "metadata": {},
   "source": [
    "# Исследование сервиса аренды самокатов #\n",
    "\n",
    "В нашем распоряжении есть данные о пользователях разных городов сервиса аренды самокатов \"GoFast\".\n",
    "Необходимо провести исследование данных и проверить несколько гипотез.\n",
    "\n",
    "**Цель работы:**\n",
    "Проверить сформулированные гипотезы для дальнейшей работы и развития сервиса аренды самокатов. \n",
    "\n",
    "**Задачи работы:**\n",
    "1. Подтвердить гипотезу о том, что пользователи с подпиской тратят больше времени на поездки, чем пользователи без подписки\n",
    "2. Проверить, что среднее расстояние, которое проезжают пользователи, не превышает 3130 метров\n",
    "3. Проверить, что помесячная выручка от пользователей с подпиской больше, чем от пользователей без подписки\n",
    "4. Проверить, снизилось ли количество обращений в техподдержку после обновления серверов мобильного приложения\n",
    "5. Выяснить, сколько промокодов на подписку нужно разослать пользователям, чтобы вероятность не выполнить план была не более 5%\n",
    "6. Оценить вероятность того, что разосланные в мобильном приложении push-уведомления откроют не более 399,5 тыс пользователей\n",
    "\n",
    "\n",
    "**План работы:**\n",
    "1. Загрузка данных, изучение первичной информации\n",
    "2. Предобработка данных:\n",
    "   - 2.1. Изменение типа данных столбца date\n",
    "   - 2.2. Добавление столбца с номером месяца в df 'rides'\n",
    "   - 2.3. Проверка на пропуски\n",
    "   - 2.4. Проверка на дубликаты\n",
    "3. Исследовательский анализ данных:\n",
    "    - 3.1. Работа со столбцом 'city'\n",
    "    - 3.2. Распределение пользователей по наличию подписки\n",
    "    - 3.3. Распределение пользователей по возрасту\n",
    "    - 3.4. Расстояния, которые пользователь преодолел за одну поездку\n",
    "    - 3.5. Продолжительность поездок\n",
    "4. Объединение таблиц\n",
    "    - 4.1. Создание общей таблицы на основе таблиц users и rides\n",
    "    - 4.2. Создание таблицы по пользователям с подпиской. Изучение данных столбцов distance и duration\n",
    "    - 4.3. Создание таблицы по пользователям без подписки. Изучение данных столбцов distance и duration\n",
    "5. Подсчет выручки\n",
    "     - 5.1. Создание сводной таблицы по пользователям с подпиской\n",
    "     - 5.2. Создание сводной таблицы по пользователям без подписки\n",
    "6. Проверка гипотез\n",
    "     - 6.1. Пользователи с подпиской тратят больше времени на поездки, чем пользователи без подписки\n",
    "     - 6.2. Проверить, что среднее расстояние, которое проезжают пользователи с подпиской, не превышает 3130 метров\n",
    "     - 6.3. Проверить, что помесячная выручка от пользователей с подпиской больше, чем от пользователей без подписки\n",
    "     - 6.4. Проверить, снизилось ли количество обращений в техподдержку после обновления серверов мобильного приложения\n",
    "7. Распределения\n",
    "      - 7.1. Выяснить, сколько промокодов на подписку нужно разослать пользователям, чтобы вероятность не выполнить план была не более 5%\n",
    "      - 7.2. Оценить вероятность того, что разосланные в мобильном приложении push-уведомления откроют не более 399,5 тыс пользователей\n",
    "\n",
    "\n"
   ]
  },
  {
   "cell_type": "markdown",
   "id": "9b27f947-ca08-4a66-b0d6-a70dacd8ccc1",
   "metadata": {},
   "source": [
    "## 1. Загрузка данных и изучение первичной информации ##"
   ]
  },
  {
   "cell_type": "code",
   "execution_count": 1,
   "id": "2515af98-6849-419b-afcb-26ab027a8108",
   "metadata": {},
   "outputs": [],
   "source": [
    "#импортируем необходимые для работы библиотеки\n",
    "import pandas as pd\n",
    "import matplotlib.pyplot as plt\n",
    "import numpy as np\n",
    "import scipy.stats as st"
   ]
  },
  {
   "cell_type": "code",
   "execution_count": 2,
   "id": "40f54d98-fcb1-48f0-a9d4-9e621cae8b62",
   "metadata": {},
   "outputs": [
    {
     "data": {
      "text/html": [
       "<div>\n",
       "<style scoped>\n",
       "    .dataframe tbody tr th:only-of-type {\n",
       "        vertical-align: middle;\n",
       "    }\n",
       "\n",
       "    .dataframe tbody tr th {\n",
       "        vertical-align: top;\n",
       "    }\n",
       "\n",
       "    .dataframe thead th {\n",
       "        text-align: right;\n",
       "    }\n",
       "</style>\n",
       "<table border=\"1\" class=\"dataframe\">\n",
       "  <thead>\n",
       "    <tr style=\"text-align: right;\">\n",
       "      <th></th>\n",
       "      <th>user_id</th>\n",
       "      <th>name</th>\n",
       "      <th>age</th>\n",
       "      <th>city</th>\n",
       "      <th>subscription_type</th>\n",
       "    </tr>\n",
       "  </thead>\n",
       "  <tbody>\n",
       "    <tr>\n",
       "      <th>0</th>\n",
       "      <td>1</td>\n",
       "      <td>Кира</td>\n",
       "      <td>22</td>\n",
       "      <td>Тюмень</td>\n",
       "      <td>ultra</td>\n",
       "    </tr>\n",
       "    <tr>\n",
       "      <th>1</th>\n",
       "      <td>2</td>\n",
       "      <td>Станислав</td>\n",
       "      <td>31</td>\n",
       "      <td>Омск</td>\n",
       "      <td>ultra</td>\n",
       "    </tr>\n",
       "    <tr>\n",
       "      <th>2</th>\n",
       "      <td>3</td>\n",
       "      <td>Алексей</td>\n",
       "      <td>20</td>\n",
       "      <td>Москва</td>\n",
       "      <td>ultra</td>\n",
       "    </tr>\n",
       "    <tr>\n",
       "      <th>3</th>\n",
       "      <td>4</td>\n",
       "      <td>Константин</td>\n",
       "      <td>26</td>\n",
       "      <td>Ростов-на-Дону</td>\n",
       "      <td>ultra</td>\n",
       "    </tr>\n",
       "    <tr>\n",
       "      <th>4</th>\n",
       "      <td>5</td>\n",
       "      <td>Адель</td>\n",
       "      <td>28</td>\n",
       "      <td>Омск</td>\n",
       "      <td>ultra</td>\n",
       "    </tr>\n",
       "    <tr>\n",
       "      <th>5</th>\n",
       "      <td>6</td>\n",
       "      <td>Регина</td>\n",
       "      <td>25</td>\n",
       "      <td>Краснодар</td>\n",
       "      <td>ultra</td>\n",
       "    </tr>\n",
       "    <tr>\n",
       "      <th>6</th>\n",
       "      <td>7</td>\n",
       "      <td>Игорь</td>\n",
       "      <td>23</td>\n",
       "      <td>Омск</td>\n",
       "      <td>ultra</td>\n",
       "    </tr>\n",
       "    <tr>\n",
       "      <th>7</th>\n",
       "      <td>8</td>\n",
       "      <td>Юрий</td>\n",
       "      <td>23</td>\n",
       "      <td>Краснодар</td>\n",
       "      <td>ultra</td>\n",
       "    </tr>\n",
       "    <tr>\n",
       "      <th>8</th>\n",
       "      <td>9</td>\n",
       "      <td>Ян</td>\n",
       "      <td>21</td>\n",
       "      <td>Пятигорск</td>\n",
       "      <td>ultra</td>\n",
       "    </tr>\n",
       "    <tr>\n",
       "      <th>9</th>\n",
       "      <td>10</td>\n",
       "      <td>Валерий</td>\n",
       "      <td>18</td>\n",
       "      <td>Екатеринбург</td>\n",
       "      <td>ultra</td>\n",
       "    </tr>\n",
       "  </tbody>\n",
       "</table>\n",
       "</div>"
      ],
      "text/plain": [
       "   user_id        name  age            city subscription_type\n",
       "0        1        Кира   22          Тюмень             ultra\n",
       "1        2   Станислав   31            Омск             ultra\n",
       "2        3     Алексей   20          Москва             ultra\n",
       "3        4  Константин   26  Ростов-на-Дону             ultra\n",
       "4        5       Адель   28            Омск             ultra\n",
       "5        6      Регина   25       Краснодар             ultra\n",
       "6        7       Игорь   23            Омск             ultra\n",
       "7        8        Юрий   23       Краснодар             ultra\n",
       "8        9          Ян   21       Пятигорск             ultra\n",
       "9       10     Валерий   18    Екатеринбург             ultra"
      ]
     },
     "execution_count": 2,
     "metadata": {},
     "output_type": "execute_result"
    }
   ],
   "source": [
    "#откроем файл users_go с данными и выведем первые 10 строк таблицы\n",
    "try:\n",
    "    users = pd.read_csv('/datasets/users_go.csv', sep = ',')\n",
    "except:\n",
    "     users = pd.read_csv('users_go.csv', sep = ',')\n",
    "users.head(10)"
   ]
  },
  {
   "cell_type": "code",
   "execution_count": 3,
   "id": "30d252af-6ac7-4e9f-9e8b-2af29de2a724",
   "metadata": {},
   "outputs": [
    {
     "name": "stdout",
     "output_type": "stream",
     "text": [
      "<class 'pandas.core.frame.DataFrame'>\n",
      "RangeIndex: 1565 entries, 0 to 1564\n",
      "Data columns (total 5 columns):\n",
      " #   Column             Non-Null Count  Dtype \n",
      "---  ------             --------------  ----- \n",
      " 0   user_id            1565 non-null   int64 \n",
      " 1   name               1565 non-null   object\n",
      " 2   age                1565 non-null   int64 \n",
      " 3   city               1565 non-null   object\n",
      " 4   subscription_type  1565 non-null   object\n",
      "dtypes: int64(2), object(3)\n",
      "memory usage: 61.3+ KB\n"
     ]
    }
   ],
   "source": [
    "users.info()"
   ]
  },
  {
   "cell_type": "markdown",
   "id": "45624c5e-1706-4354-b7d5-4e013db0e0fb",
   "metadata": {},
   "source": [
    "В файле users 5 колонок и 1565 строк, пропущенных значений нет.\n",
    "\n",
    "Столбцы:\n",
    "  - user_id - уникальный идентификатор пользователя\n",
    "  - name - имя пользователя\n",
    "  -age - возраст\n",
    "  -city - город\n",
    "  -subscription_type - тип подписки (free, ultra)"
   ]
  },
  {
   "cell_type": "code",
   "execution_count": 4,
   "id": "1e41e16e-944c-49f1-a1ab-c265454f8e8b",
   "metadata": {},
   "outputs": [
    {
     "data": {
      "text/html": [
       "<div>\n",
       "<style scoped>\n",
       "    .dataframe tbody tr th:only-of-type {\n",
       "        vertical-align: middle;\n",
       "    }\n",
       "\n",
       "    .dataframe tbody tr th {\n",
       "        vertical-align: top;\n",
       "    }\n",
       "\n",
       "    .dataframe thead th {\n",
       "        text-align: right;\n",
       "    }\n",
       "</style>\n",
       "<table border=\"1\" class=\"dataframe\">\n",
       "  <thead>\n",
       "    <tr style=\"text-align: right;\">\n",
       "      <th></th>\n",
       "      <th>user_id</th>\n",
       "      <th>distance</th>\n",
       "      <th>duration</th>\n",
       "      <th>date</th>\n",
       "    </tr>\n",
       "  </thead>\n",
       "  <tbody>\n",
       "    <tr>\n",
       "      <th>0</th>\n",
       "      <td>1</td>\n",
       "      <td>4409.919140</td>\n",
       "      <td>25.599769</td>\n",
       "      <td>2021-01-01</td>\n",
       "    </tr>\n",
       "    <tr>\n",
       "      <th>1</th>\n",
       "      <td>1</td>\n",
       "      <td>2617.592153</td>\n",
       "      <td>15.816871</td>\n",
       "      <td>2021-01-18</td>\n",
       "    </tr>\n",
       "    <tr>\n",
       "      <th>2</th>\n",
       "      <td>1</td>\n",
       "      <td>754.159807</td>\n",
       "      <td>6.232113</td>\n",
       "      <td>2021-04-20</td>\n",
       "    </tr>\n",
       "    <tr>\n",
       "      <th>3</th>\n",
       "      <td>1</td>\n",
       "      <td>2694.783254</td>\n",
       "      <td>18.511000</td>\n",
       "      <td>2021-08-11</td>\n",
       "    </tr>\n",
       "    <tr>\n",
       "      <th>4</th>\n",
       "      <td>1</td>\n",
       "      <td>4028.687306</td>\n",
       "      <td>26.265803</td>\n",
       "      <td>2021-08-28</td>\n",
       "    </tr>\n",
       "    <tr>\n",
       "      <th>5</th>\n",
       "      <td>1</td>\n",
       "      <td>2770.890808</td>\n",
       "      <td>16.650138</td>\n",
       "      <td>2021-10-09</td>\n",
       "    </tr>\n",
       "    <tr>\n",
       "      <th>6</th>\n",
       "      <td>1</td>\n",
       "      <td>3039.020292</td>\n",
       "      <td>14.927879</td>\n",
       "      <td>2021-10-19</td>\n",
       "    </tr>\n",
       "    <tr>\n",
       "      <th>7</th>\n",
       "      <td>1</td>\n",
       "      <td>2842.118050</td>\n",
       "      <td>23.117468</td>\n",
       "      <td>2021-11-06</td>\n",
       "    </tr>\n",
       "    <tr>\n",
       "      <th>8</th>\n",
       "      <td>1</td>\n",
       "      <td>3412.690668</td>\n",
       "      <td>15.238072</td>\n",
       "      <td>2021-11-14</td>\n",
       "    </tr>\n",
       "    <tr>\n",
       "      <th>9</th>\n",
       "      <td>1</td>\n",
       "      <td>748.690645</td>\n",
       "      <td>15.041884</td>\n",
       "      <td>2021-11-22</td>\n",
       "    </tr>\n",
       "  </tbody>\n",
       "</table>\n",
       "</div>"
      ],
      "text/plain": [
       "   user_id     distance   duration       date\n",
       "0        1  4409.919140  25.599769 2021-01-01\n",
       "1        1  2617.592153  15.816871 2021-01-18\n",
       "2        1   754.159807   6.232113 2021-04-20\n",
       "3        1  2694.783254  18.511000 2021-08-11\n",
       "4        1  4028.687306  26.265803 2021-08-28\n",
       "5        1  2770.890808  16.650138 2021-10-09\n",
       "6        1  3039.020292  14.927879 2021-10-19\n",
       "7        1  2842.118050  23.117468 2021-11-06\n",
       "8        1  3412.690668  15.238072 2021-11-14\n",
       "9        1   748.690645  15.041884 2021-11-22"
      ]
     },
     "execution_count": 4,
     "metadata": {},
     "output_type": "execute_result"
    }
   ],
   "source": [
    "#откроем файл rides_go с данными и выведем первые 10 строк таблицы\n",
    "try:\n",
    "    rides = pd.read_csv('/datasets/rides_go.csv', sep = ',', parse_dates = ['date'], dayfirst = True)\n",
    "except:\n",
    "     rides = pd.read_csv('rides_go.csv', sep = ',', parse_dates = ['date'], dayfirst = True)\n",
    "rides.head(10)"
   ]
  },
  {
   "cell_type": "code",
   "execution_count": 5,
   "id": "6b351ef6-7344-4e2a-9aa7-36cc206d1191",
   "metadata": {},
   "outputs": [
    {
     "name": "stdout",
     "output_type": "stream",
     "text": [
      "<class 'pandas.core.frame.DataFrame'>\n",
      "RangeIndex: 18068 entries, 0 to 18067\n",
      "Data columns (total 4 columns):\n",
      " #   Column    Non-Null Count  Dtype         \n",
      "---  ------    --------------  -----         \n",
      " 0   user_id   18068 non-null  int64         \n",
      " 1   distance  18068 non-null  float64       \n",
      " 2   duration  18068 non-null  float64       \n",
      " 3   date      18068 non-null  datetime64[ns]\n",
      "dtypes: datetime64[ns](1), float64(2), int64(1)\n",
      "memory usage: 564.8 KB\n"
     ]
    }
   ],
   "source": [
    "rides.info()"
   ]
  },
  {
   "cell_type": "markdown",
   "id": "36b825b9-8e0c-43cd-9bec-71c4fb772d4c",
   "metadata": {},
   "source": [
    "В файле rides_go 18068 строк и 4 столбца. Пропущенных значений нет.\n",
    "\n",
    "Столбцы:\n",
    "\n",
    "   - user_id - уникальный идентификатор пользователя\n",
    "   - distance - расстояние, которое пользователь проехал в текущей сессии (в метрах)\n",
    "   - duration - продолжительность сессии (в минутах) \n",
    "   - date - дата совершения поездки"
   ]
  },
  {
   "cell_type": "code",
   "execution_count": 6,
   "id": "f4926f7f-d9a5-4fc0-9e8f-6ac55514a8ad",
   "metadata": {},
   "outputs": [
    {
     "data": {
      "text/html": [
       "<div>\n",
       "<style scoped>\n",
       "    .dataframe tbody tr th:only-of-type {\n",
       "        vertical-align: middle;\n",
       "    }\n",
       "\n",
       "    .dataframe tbody tr th {\n",
       "        vertical-align: top;\n",
       "    }\n",
       "\n",
       "    .dataframe thead th {\n",
       "        text-align: right;\n",
       "    }\n",
       "</style>\n",
       "<table border=\"1\" class=\"dataframe\">\n",
       "  <thead>\n",
       "    <tr style=\"text-align: right;\">\n",
       "      <th></th>\n",
       "      <th>subscription_type</th>\n",
       "      <th>minute_price</th>\n",
       "      <th>start_ride_price</th>\n",
       "      <th>subscription_fee</th>\n",
       "    </tr>\n",
       "  </thead>\n",
       "  <tbody>\n",
       "    <tr>\n",
       "      <th>0</th>\n",
       "      <td>free</td>\n",
       "      <td>8</td>\n",
       "      <td>50</td>\n",
       "      <td>0</td>\n",
       "    </tr>\n",
       "    <tr>\n",
       "      <th>1</th>\n",
       "      <td>ultra</td>\n",
       "      <td>6</td>\n",
       "      <td>0</td>\n",
       "      <td>199</td>\n",
       "    </tr>\n",
       "  </tbody>\n",
       "</table>\n",
       "</div>"
      ],
      "text/plain": [
       "  subscription_type  minute_price  start_ride_price  subscription_fee\n",
       "0              free             8                50                 0\n",
       "1             ultra             6                 0               199"
      ]
     },
     "execution_count": 6,
     "metadata": {},
     "output_type": "execute_result"
    }
   ],
   "source": [
    "#откроем файл subscriptions_go с данными и выведем первые 10 строк таблицы\n",
    "try:\n",
    "    subscriptions = pd.read_csv('/datasets/subscriptions_go.csv')\n",
    "except:\n",
    "     subscriptions = pd.read_csv('subscriptions_go.csv')\n",
    "subscriptions"
   ]
  },
  {
   "cell_type": "code",
   "execution_count": 7,
   "id": "34e4f9b4-4dc3-45ca-86a6-df064c370438",
   "metadata": {},
   "outputs": [
    {
     "name": "stdout",
     "output_type": "stream",
     "text": [
      "<class 'pandas.core.frame.DataFrame'>\n",
      "RangeIndex: 2 entries, 0 to 1\n",
      "Data columns (total 4 columns):\n",
      " #   Column             Non-Null Count  Dtype \n",
      "---  ------             --------------  ----- \n",
      " 0   subscription_type  2 non-null      object\n",
      " 1   minute_price       2 non-null      int64 \n",
      " 2   start_ride_price   2 non-null      int64 \n",
      " 3   subscription_fee   2 non-null      int64 \n",
      "dtypes: int64(3), object(1)\n",
      "memory usage: 192.0+ bytes\n"
     ]
    }
   ],
   "source": [
    "subscriptions.info()"
   ]
  },
  {
   "cell_type": "markdown",
   "id": "a36cb120-39e5-4407-b72e-cfce87212c54",
   "metadata": {},
   "source": [
    "В файле subscriptions_go всего 2 строки и 4 столбца. Пропущенных значений так же нет\n",
    "\n",
    "Столбцы:\n",
    "\n",
    "   - subscription_type - тип подписки\n",
    "   - minute_price - стоимость одной минуты поездки по данной подписке\n",
    "   - start_ride_price - стоимость начала поездки\n",
    "   - subscription_fee - стоимость ежемесячного платежа"
   ]
  },
  {
   "cell_type": "markdown",
   "id": "57f07e92-bdf3-4c98-a519-4769e6de7aef",
   "metadata": {},
   "source": [
    "## 2. Предобработка данных. ##\n",
    "\n",
    "### 2.1. Изменение типа данных столбца date ###\n",
    "\n",
    "\n"
   ]
  },
  {
   "cell_type": "markdown",
   "id": "51a918cb-85f9-4a27-80d2-7540435108aa",
   "metadata": {},
   "source": [
    "### 2.2. Добавим столбец с номером месяца в таблицу 'rides'"
   ]
  },
  {
   "cell_type": "code",
   "execution_count": 8,
   "id": "055e6cb8-5361-4f66-8dcd-9682cf7c576b",
   "metadata": {},
   "outputs": [
    {
     "data": {
      "text/html": [
       "<div>\n",
       "<style scoped>\n",
       "    .dataframe tbody tr th:only-of-type {\n",
       "        vertical-align: middle;\n",
       "    }\n",
       "\n",
       "    .dataframe tbody tr th {\n",
       "        vertical-align: top;\n",
       "    }\n",
       "\n",
       "    .dataframe thead th {\n",
       "        text-align: right;\n",
       "    }\n",
       "</style>\n",
       "<table border=\"1\" class=\"dataframe\">\n",
       "  <thead>\n",
       "    <tr style=\"text-align: right;\">\n",
       "      <th></th>\n",
       "      <th>user_id</th>\n",
       "      <th>distance</th>\n",
       "      <th>duration</th>\n",
       "      <th>date</th>\n",
       "      <th>month</th>\n",
       "    </tr>\n",
       "  </thead>\n",
       "  <tbody>\n",
       "    <tr>\n",
       "      <th>0</th>\n",
       "      <td>1</td>\n",
       "      <td>4409.919140</td>\n",
       "      <td>25.599769</td>\n",
       "      <td>2021-01-01</td>\n",
       "      <td>1</td>\n",
       "    </tr>\n",
       "    <tr>\n",
       "      <th>1</th>\n",
       "      <td>1</td>\n",
       "      <td>2617.592153</td>\n",
       "      <td>15.816871</td>\n",
       "      <td>2021-01-18</td>\n",
       "      <td>1</td>\n",
       "    </tr>\n",
       "    <tr>\n",
       "      <th>2</th>\n",
       "      <td>1</td>\n",
       "      <td>754.159807</td>\n",
       "      <td>6.232113</td>\n",
       "      <td>2021-04-20</td>\n",
       "      <td>4</td>\n",
       "    </tr>\n",
       "    <tr>\n",
       "      <th>3</th>\n",
       "      <td>1</td>\n",
       "      <td>2694.783254</td>\n",
       "      <td>18.511000</td>\n",
       "      <td>2021-08-11</td>\n",
       "      <td>8</td>\n",
       "    </tr>\n",
       "    <tr>\n",
       "      <th>4</th>\n",
       "      <td>1</td>\n",
       "      <td>4028.687306</td>\n",
       "      <td>26.265803</td>\n",
       "      <td>2021-08-28</td>\n",
       "      <td>8</td>\n",
       "    </tr>\n",
       "  </tbody>\n",
       "</table>\n",
       "</div>"
      ],
      "text/plain": [
       "   user_id     distance   duration       date  month\n",
       "0        1  4409.919140  25.599769 2021-01-01      1\n",
       "1        1  2617.592153  15.816871 2021-01-18      1\n",
       "2        1   754.159807   6.232113 2021-04-20      4\n",
       "3        1  2694.783254  18.511000 2021-08-11      8\n",
       "4        1  4028.687306  26.265803 2021-08-28      8"
      ]
     },
     "execution_count": 8,
     "metadata": {},
     "output_type": "execute_result"
    }
   ],
   "source": [
    "#добавим столбец с месяцем \n",
    "rides['month'] = pd.DatetimeIndex(rides['date']).month\n",
    "rides.head()"
   ]
  },
  {
   "cell_type": "markdown",
   "id": "594e9b2b-deb0-4d14-8a2b-5225ac795038",
   "metadata": {},
   "source": [
    "### 2.3 Проверка таблиц на пропуски"
   ]
  },
  {
   "cell_type": "code",
   "execution_count": 9,
   "id": "12754ba5-8898-4d7d-8b94-9056153b2c72",
   "metadata": {},
   "outputs": [
    {
     "data": {
      "text/plain": [
       "user_id              0\n",
       "name                 0\n",
       "age                  0\n",
       "city                 0\n",
       "subscription_type    0\n",
       "dtype: int64"
      ]
     },
     "execution_count": 9,
     "metadata": {},
     "output_type": "execute_result"
    }
   ],
   "source": [
    "users.isna().sum()"
   ]
  },
  {
   "cell_type": "code",
   "execution_count": 10,
   "id": "dfdf060d-047e-490e-9d2c-15bff26da9ed",
   "metadata": {},
   "outputs": [
    {
     "data": {
      "text/plain": [
       "user_id     0\n",
       "distance    0\n",
       "duration    0\n",
       "date        0\n",
       "month       0\n",
       "dtype: int64"
      ]
     },
     "execution_count": 10,
     "metadata": {},
     "output_type": "execute_result"
    }
   ],
   "source": [
    "rides.isna().sum()"
   ]
  },
  {
   "cell_type": "code",
   "execution_count": 11,
   "id": "6aad604b-7f77-4c2a-ae18-c9f7917f8a28",
   "metadata": {},
   "outputs": [
    {
     "data": {
      "text/plain": [
       "subscription_type    0\n",
       "minute_price         0\n",
       "start_ride_price     0\n",
       "subscription_fee     0\n",
       "dtype: int64"
      ]
     },
     "execution_count": 11,
     "metadata": {},
     "output_type": "execute_result"
    }
   ],
   "source": [
    "subscriptions.isna().sum()"
   ]
  },
  {
   "cell_type": "markdown",
   "id": "855e4c04-6054-49ff-acc5-281a4df652d5",
   "metadata": {},
   "source": [
    "Во всех трех таблицах пропущенных значений нет. Данные представлены в полном объеме."
   ]
  },
  {
   "cell_type": "markdown",
   "id": "8c7a2f2d-6cb9-4f16-8652-0a82f367e06c",
   "metadata": {},
   "source": [
    "### 2.4. Проверка таблиц на дубликаты\n",
    "    \n",
    "  * Поиск явных дубликатов "
   ]
  },
  {
   "cell_type": "code",
   "execution_count": 12,
   "id": "785b8360-04b7-490e-997c-bace0ae6db07",
   "metadata": {
    "tags": []
   },
   "outputs": [
    {
     "data": {
      "text/plain": [
       "31"
      ]
     },
     "execution_count": 12,
     "metadata": {},
     "output_type": "execute_result"
    }
   ],
   "source": [
    "users.duplicated().sum()"
   ]
  },
  {
   "cell_type": "markdown",
   "id": "3785e8f7-e998-468e-a85d-b5a4d1dd454f",
   "metadata": {},
   "source": [
    "В таблице 'users' 31 дублирующаяся строка. Удалим эти строки."
   ]
  },
  {
   "cell_type": "code",
   "execution_count": 13,
   "id": "6036ce3b-220b-4b49-a646-4c63f21c9cdd",
   "metadata": {},
   "outputs": [
    {
     "data": {
      "text/plain": [
       "(1565, 5)"
      ]
     },
     "execution_count": 13,
     "metadata": {},
     "output_type": "execute_result"
    }
   ],
   "source": [
    "# Проверим сначала размер таблицы\n",
    "users.shape"
   ]
  },
  {
   "cell_type": "code",
   "execution_count": 14,
   "id": "a46ba5b7-eb1d-4609-b651-402ae7aba242",
   "metadata": {},
   "outputs": [],
   "source": [
    "users = users.drop_duplicates()\n"
   ]
  },
  {
   "cell_type": "code",
   "execution_count": 15,
   "id": "891c1460-d782-45a2-875a-5ef3aa1819cb",
   "metadata": {},
   "outputs": [
    {
     "data": {
      "text/plain": [
       "(1534, 5)"
      ]
     },
     "execution_count": 15,
     "metadata": {},
     "output_type": "execute_result"
    }
   ],
   "source": [
    "users.shape"
   ]
  },
  {
   "cell_type": "markdown",
   "id": "4f4605e8-f3d2-462c-a1da-7e3f08ac007f",
   "metadata": {},
   "source": [
    "Удалили ровно 31 строку - дубликат."
   ]
  },
  {
   "cell_type": "code",
   "execution_count": 16,
   "id": "577b56ea-ff1d-4e32-833c-a223052972b5",
   "metadata": {},
   "outputs": [
    {
     "data": {
      "text/plain": [
       "0"
      ]
     },
     "execution_count": 16,
     "metadata": {},
     "output_type": "execute_result"
    }
   ],
   "source": [
    "rides.duplicated().sum()"
   ]
  },
  {
   "cell_type": "markdown",
   "id": "7f9eba5d-538f-4bea-8e40-4268550af091",
   "metadata": {},
   "source": [
    "В таблице 'rides' явных дубликатов нет.\n",
    "\n",
    "   * Поиск неявных дубликатов:\n",
    "   \n",
    "Перейдем к поиску неяных дубликатов. Проверим столбец 'city' из df 'users'"
   ]
  },
  {
   "cell_type": "code",
   "execution_count": 17,
   "id": "3f5e7d4e-13f0-429e-8dc3-9af959dddbe2",
   "metadata": {},
   "outputs": [
    {
     "data": {
      "text/plain": [
       "array(['Тюмень', 'Омск', 'Москва', 'Ростов-на-Дону', 'Краснодар',\n",
       "       'Пятигорск', 'Екатеринбург', 'Сочи'], dtype=object)"
      ]
     },
     "execution_count": 17,
     "metadata": {},
     "output_type": "execute_result"
    }
   ],
   "source": [
    "users['city'].unique()"
   ]
  },
  {
   "cell_type": "markdown",
   "id": "d40412e7-6ab7-4269-9ab3-fd0e76057393",
   "metadata": {},
   "source": [
    "Столбец 'city' в порядке, неявных дубликатов нет"
   ]
  },
  {
   "cell_type": "markdown",
   "id": "98639f1a-7c76-41bd-b1f9-75c37f4562f3",
   "metadata": {
    "tags": []
   },
   "source": [
    "В ходе предварительной подготовки данных к работе были выполнены следующие шаги:\n",
    "\n",
    "     -  Формат столбца \"date\" преобразован в формат даты\n",
    "     -  Проведена проверка на дубликаты (явные и неявные), удалена 31 строка с явными дубликатами.\n",
    "\n",
    "Данные готовы к исследовательскому анализу"
   ]
  },
  {
   "cell_type": "markdown",
   "id": "56120ca3-a005-40d2-a2d1-1362aee7b124",
   "metadata": {
    "tags": []
   },
   "source": [
    "## 3. Исследовательский анализ данных\n",
    "\n",
    "### 3.1. Изучение столбца 'city'"
   ]
  },
  {
   "cell_type": "code",
   "execution_count": 18,
   "id": "f0749148-82f7-445b-a6d7-bb185ac8bbf0",
   "metadata": {},
   "outputs": [
    {
     "data": {
      "image/png": "[encoded data removed]",
      "text/plain": [
       "<Figure size 720x360 with 1 Axes>"
      ]
     },
     "metadata": {
      "needs_background": "light"
     },
     "output_type": "display_data"
    }
   ],
   "source": [
    "users['city'].sort_values().hist(\n",
    "    bins = 24,\n",
    "    grid = True,\n",
    "    figsize = (10, 5),\n",
    "    color = 'purple'\n",
    ")\n",
    "plt.xlabel('\\n'+'Город', color = 'blue', fontsize = 12)\n",
    "plt.ylabel('\\n'+'Количество пользователей', color = 'blue', fontsize = 12)\n",
    "plt.title('Распределение пользователей по городам' +'\\n', color = 'blue', fontsize = 14);"
   ]
  },
  {
   "cell_type": "markdown",
   "id": "7125c98b-be99-45b2-90cd-908a1d8d81a6",
   "metadata": {},
   "source": [
    "В нашей выборке представлено восемь городов. Пользователи из всех городов распределены достаточно равномерно, без перекосов в сторону какого-либо города. По графику видно, что в выборке преобладают пользователи из Пятигорска, за ним Екатеринбург и Ростов-на-Дону. Меньше всего в выборке представителей Москвы."
   ]
  },
  {
   "cell_type": "code",
   "execution_count": 19,
   "id": "c8a1ebe1-ac3b-43a0-a3bf-22c29e5c3bd1",
   "metadata": {},
   "outputs": [
    {
     "data": {
      "text/html": [
       "<div>\n",
       "<style scoped>\n",
       "    .dataframe tbody tr th:only-of-type {\n",
       "        vertical-align: middle;\n",
       "    }\n",
       "\n",
       "    .dataframe tbody tr th {\n",
       "        vertical-align: top;\n",
       "    }\n",
       "\n",
       "    .dataframe thead th {\n",
       "        text-align: right;\n",
       "    }\n",
       "</style>\n",
       "<table border=\"1\" class=\"dataframe\">\n",
       "  <thead>\n",
       "    <tr style=\"text-align: right;\">\n",
       "      <th></th>\n",
       "      <th>city</th>\n",
       "    </tr>\n",
       "  </thead>\n",
       "  <tbody>\n",
       "    <tr>\n",
       "      <th>Пятигорск</th>\n",
       "      <td>219</td>\n",
       "    </tr>\n",
       "    <tr>\n",
       "      <th>Екатеринбург</th>\n",
       "      <td>204</td>\n",
       "    </tr>\n",
       "    <tr>\n",
       "      <th>Ростов-на-Дону</th>\n",
       "      <td>198</td>\n",
       "    </tr>\n",
       "    <tr>\n",
       "      <th>Краснодар</th>\n",
       "      <td>193</td>\n",
       "    </tr>\n",
       "    <tr>\n",
       "      <th>Сочи</th>\n",
       "      <td>189</td>\n",
       "    </tr>\n",
       "    <tr>\n",
       "      <th>Омск</th>\n",
       "      <td>183</td>\n",
       "    </tr>\n",
       "    <tr>\n",
       "      <th>Тюмень</th>\n",
       "      <td>180</td>\n",
       "    </tr>\n",
       "    <tr>\n",
       "      <th>Москва</th>\n",
       "      <td>168</td>\n",
       "    </tr>\n",
       "  </tbody>\n",
       "</table>\n",
       "</div>"
      ],
      "text/plain": [
       "                city\n",
       "Пятигорск        219\n",
       "Екатеринбург     204\n",
       "Ростов-на-Дону   198\n",
       "Краснодар        193\n",
       "Сочи             189\n",
       "Омск             183\n",
       "Тюмень           180\n",
       "Москва           168"
      ]
     },
     "execution_count": 19,
     "metadata": {},
     "output_type": "execute_result"
    }
   ],
   "source": [
    "users['city'].value_counts().to_frame()"
   ]
  },
  {
   "cell_type": "markdown",
   "id": "4d7c938a-d7fb-41e0-a9d2-98cb9836079d",
   "metadata": {},
   "source": [
    "### 3.2. Соотношение числа пользователей с подпиской и без"
   ]
  },
  {
   "cell_type": "code",
   "execution_count": 20,
   "id": "425be530-4fb0-4ffd-a329-0133477ea3b8",
   "metadata": {},
   "outputs": [
    {
     "data": {
      "image/png": "[encoded data removed]",
      "text/plain": [
       "<Figure size 432x432 with 1 Axes>"
      ]
     },
     "metadata": {},
     "output_type": "display_data"
    }
   ],
   "source": [
    "users['subscription_type'].value_counts().plot(\n",
    "    kind = 'pie',\n",
    "    legend = True,\n",
    "    autopct='%1.1f%%',\n",
    "    figsize = (6,6)\n",
    ")\n",
    "plt.ylabel('Тип подписки', color = 'blue', fontsize = 12)\n",
    "plt.title('Распределение пользователей по наличию подписки' +'\\n', color = 'blue', fontsize = 14);"
   ]
  },
  {
   "cell_type": "markdown",
   "id": "e658d33e-dd41-48b8-9040-13d741a729e0",
   "metadata": {},
   "source": [
    "В наших данных преобладают пользователи без подписки (примерно 54.4% пользователей). Подписка есть примерно у 45.6% пользователей. Можно сказать, что группы для исследование представлены достаточно равномерно, сильных перекосов нет."
   ]
  },
  {
   "cell_type": "markdown",
   "id": "9359f145-a69d-4493-860f-f5b6ec33358c",
   "metadata": {},
   "source": [
    "### 3.3. Распределение пользователей по возрасту"
   ]
  },
  {
   "cell_type": "code",
   "execution_count": 21,
   "id": "a3858532-a324-4b30-b678-f93a26f981b7",
   "metadata": {},
   "outputs": [
    {
     "data": {
      "image/png": "[encoded data removed]",
      "text/plain": [
       "<Figure size 1080x360 with 1 Axes>"
      ]
     },
     "metadata": {
      "needs_background": "light"
     },
     "output_type": "display_data"
    }
   ],
   "source": [
    "users['age'].hist(\n",
    "    bins = 100,\n",
    "    grid = True,\n",
    "    figsize = (15, 5),\n",
    "    color = 'green'\n",
    ")\n",
    "plt.xlabel('\\n'+'Возраст', color = 'blue', fontsize = 12)\n",
    "plt.ylabel('\\n'+'Количество пользователей', color = 'blue', fontsize = 12)\n",
    "plt.title('Распределение пользователей по возрасту' +'\\n', color = 'blue', fontsize = 14);"
   ]
  },
  {
   "cell_type": "markdown",
   "id": "a0badca9-87ad-481c-b4b9-e54c4136f663",
   "metadata": {},
   "source": [
    "В нашей выборке преобладают пользователи от 18 до 33 лет. Но есть и несовершеннолетние пользователи и пользователи старше 40 лет"
   ]
  },
  {
   "cell_type": "code",
   "execution_count": 22,
   "id": "4f06dcb7-5f03-446c-991d-8f301edd1ac9",
   "metadata": {},
   "outputs": [
    {
     "data": {
      "text/plain": [
       "count    1534.000000\n",
       "mean       24.903520\n",
       "std         4.572367\n",
       "min        12.000000\n",
       "25%        22.000000\n",
       "50%        25.000000\n",
       "75%        28.000000\n",
       "max        43.000000\n",
       "Name: age, dtype: float64"
      ]
     },
     "execution_count": 22,
     "metadata": {},
     "output_type": "execute_result"
    }
   ],
   "source": [
    "users['age'].describe()"
   ]
  },
  {
   "cell_type": "markdown",
   "id": "283a5590-f36a-478f-9e82-4ad1caa6f10b",
   "metadata": {},
   "source": [
    "Минимальный возраст наших пользователей 12 лет, максимальный - 43 года. Среднее и медиана совпали - 25 лет. Основные значения сосредоточены в диапазоне от 22 до 28 лет"
   ]
  },
  {
   "cell_type": "markdown",
   "id": "4b1d9ea4-250c-4e0c-817e-72b5d8023f21",
   "metadata": {},
   "source": [
    "### 3.4. Расстояния, которые пользователь преодолел за одну поездку"
   ]
  },
  {
   "cell_type": "code",
   "execution_count": 23,
   "id": "70c2dc80-619b-4561-a045-5b219e6c61ab",
   "metadata": {},
   "outputs": [
    {
     "data": {
      "image/png": "[encoded data removed]",
      "text/plain": [
       "<Figure size 1080x360 with 1 Axes>"
      ]
     },
     "metadata": {
      "needs_background": "light"
     },
     "output_type": "display_data"
    }
   ],
   "source": [
    "rides['distance'].hist(\n",
    "    bins = 150,\n",
    "    grid = True,\n",
    "    figsize = (15, 5),\n",
    "    color = 'green'\n",
    ")\n",
    "plt.xlabel('\\n'+'Расстояние, м', color = 'blue', fontsize = 12)\n",
    "plt.ylabel('\\n'+'Количество поездок', color = 'blue', fontsize = 12)\n",
    "plt.title('Расстояния, которые проезжали пользователи' +'\\n', color = 'blue', fontsize = 14);"
   ]
  },
  {
   "cell_type": "markdown",
   "id": "c07590e3-16d8-417d-aebd-141f49df2035",
   "metadata": {},
   "source": [
    "Преобладающее количество поездок в диапазоне от 2 до 4,8 км. Но есть и слишком короткие поездки (меньше 1 км)  и экстремально долгие (больше 6 км). "
   ]
  },
  {
   "cell_type": "markdown",
   "id": "0a822037-206c-410a-a1c7-8ef3cffa0afc",
   "metadata": {},
   "source": [
    "### 3.5. Продолжительность каждой поездки"
   ]
  },
  {
   "cell_type": "code",
   "execution_count": 24,
   "id": "6d4d8506-8f53-4bcf-b25e-c078b7e9277f",
   "metadata": {},
   "outputs": [
    {
     "data": {
      "image/png": "[encoded data removed]",
      "text/plain": [
       "<Figure size 1080x360 with 1 Axes>"
      ]
     },
     "metadata": {
      "needs_background": "light"
     },
     "output_type": "display_data"
    }
   ],
   "source": [
    "#Построим гистограмму продолжительности каждой поездки\n",
    "rides['duration'].hist(\n",
    "    bins = 200,\n",
    "    grid = True,\n",
    "    figsize = (15, 5),\n",
    "    color = 'purple'\n",
    ")\n",
    "plt.xlabel('\\n'+'Время, мин', color = 'blue', fontsize = 12)\n",
    "plt.ylabel('\\n'+'Количество поездок', color = 'blue', fontsize = 12)\n",
    "plt.title('Продолжительность каждой поездки' +'\\n', color = 'blue', fontsize = 14);"
   ]
  },
  {
   "cell_type": "code",
   "execution_count": 25,
   "id": "818b9399-c161-4f1a-aba7-1e271d41c612",
   "metadata": {},
   "outputs": [
    {
     "data": {
      "image/png": "[encoded data removed]",
      "text/plain": [
       "<Figure size 1080x144 with 1 Axes>"
      ]
     },
     "metadata": {
      "needs_background": "light"
     },
     "output_type": "display_data"
    }
   ],
   "source": [
    "#Построим диаграмму размаха длительности поездок\n",
    "fig, ax = plt.subplots(figsize = (15,2))\n",
    "ax = rides[['duration']].boxplot(vert = False, ax =ax)\n",
    "ax.set_title('Диаграмма размаха продолжительности поездки');\n"
   ]
  },
  {
   "cell_type": "code",
   "execution_count": 26,
   "id": "4d5dc882-2ad6-4e99-9a5b-1e203dc3d5cf",
   "metadata": {},
   "outputs": [
    {
     "data": {
      "text/plain": [
       "count    18068.000000\n",
       "mean        17.805011\n",
       "std          6.091051\n",
       "min          0.500000\n",
       "25%         13.597563\n",
       "50%         17.678395\n",
       "75%         21.724800\n",
       "max         40.823963\n",
       "Name: duration, dtype: float64"
      ]
     },
     "execution_count": 26,
     "metadata": {},
     "output_type": "execute_result"
    }
   ],
   "source": [
    "rides['duration'].describe()"
   ]
  },
  {
   "cell_type": "markdown",
   "id": "0fd1151d-6232-497b-b24d-bf071025826f",
   "metadata": {
    "tags": []
   },
   "source": [
    "В наших данных преобладают поездки от 13 до 21 минуты. Есть экстремально короткие поездки  меньше 1 минуты и есть поездки длительностью 40 минут. Среднее значение и медиана примерно совпали и составили 17,6-17,8 минуты\n"
   ]
  },
  {
   "cell_type": "markdown",
   "id": "350bdff5-6c22-49bf-8be9-b788fc61d385",
   "metadata": {},
   "source": [
    "В ходе исследовательского анализа данных мы посмотрели распределение пользователей по городам и возрастам: в нашей выборке есть представители из восьми городов России, преобладают пользователи в возрасте от 18 до 33 лет. Данные о пользователях с подпиской и без подписки представлены без большого перекоса в какую-либо сторону, но с преобладанием доли пользователей без подписки, это нужно будет учесть при последующей проверке гипотез. Данные о дительности и дальности поездок так же представлены достаточно равномерно и готовы к дальнейшему анализу."
   ]
  },
  {
   "cell_type": "markdown",
   "id": "f79ca5ec-6e09-44c9-bac2-e5b59b130ed7",
   "metadata": {},
   "source": [
    "## 4. Объединение данных"
   ]
  },
  {
   "cell_type": "markdown",
   "id": "e95b240c-5028-4546-8033-872c98502bd9",
   "metadata": {},
   "source": [
    "### 4.1. Создание общей сводной таблицы\n",
    "\n",
    "Объединим таблицы users и rides в одну - по столбцу 'user_id'"
   ]
  },
  {
   "cell_type": "code",
   "execution_count": 27,
   "id": "8e315063-ee20-450c-b748-280087c22b22",
   "metadata": {},
   "outputs": [
    {
     "data": {
      "text/plain": [
       "(18068, 5)"
      ]
     },
     "execution_count": 27,
     "metadata": {},
     "output_type": "execute_result"
    }
   ],
   "source": [
    "rides.shape"
   ]
  },
  {
   "cell_type": "code",
   "execution_count": 28,
   "id": "d83720da-0f83-4786-b021-a1f60e8e7b40",
   "metadata": {},
   "outputs": [
    {
     "data": {
      "text/html": [
       "<div>\n",
       "<style scoped>\n",
       "    .dataframe tbody tr th:only-of-type {\n",
       "        vertical-align: middle;\n",
       "    }\n",
       "\n",
       "    .dataframe tbody tr th {\n",
       "        vertical-align: top;\n",
       "    }\n",
       "\n",
       "    .dataframe thead th {\n",
       "        text-align: right;\n",
       "    }\n",
       "</style>\n",
       "<table border=\"1\" class=\"dataframe\">\n",
       "  <thead>\n",
       "    <tr style=\"text-align: right;\">\n",
       "      <th></th>\n",
       "      <th>user_id</th>\n",
       "      <th>distance</th>\n",
       "      <th>duration</th>\n",
       "      <th>date</th>\n",
       "      <th>month</th>\n",
       "      <th>name</th>\n",
       "      <th>age</th>\n",
       "      <th>city</th>\n",
       "      <th>subscription_type</th>\n",
       "    </tr>\n",
       "  </thead>\n",
       "  <tbody>\n",
       "    <tr>\n",
       "      <th>18058</th>\n",
       "      <td>1534</td>\n",
       "      <td>195.447469</td>\n",
       "      <td>6.469074</td>\n",
       "      <td>2021-06-11</td>\n",
       "      <td>6</td>\n",
       "      <td>Альберт</td>\n",
       "      <td>25</td>\n",
       "      <td>Краснодар</td>\n",
       "      <td>free</td>\n",
       "    </tr>\n",
       "    <tr>\n",
       "      <th>18059</th>\n",
       "      <td>1534</td>\n",
       "      <td>3214.021065</td>\n",
       "      <td>18.343604</td>\n",
       "      <td>2021-06-18</td>\n",
       "      <td>6</td>\n",
       "      <td>Альберт</td>\n",
       "      <td>25</td>\n",
       "      <td>Краснодар</td>\n",
       "      <td>free</td>\n",
       "    </tr>\n",
       "    <tr>\n",
       "      <th>18060</th>\n",
       "      <td>1534</td>\n",
       "      <td>3644.708038</td>\n",
       "      <td>20.289416</td>\n",
       "      <td>2021-08-08</td>\n",
       "      <td>8</td>\n",
       "      <td>Альберт</td>\n",
       "      <td>25</td>\n",
       "      <td>Краснодар</td>\n",
       "      <td>free</td>\n",
       "    </tr>\n",
       "    <tr>\n",
       "      <th>18061</th>\n",
       "      <td>1534</td>\n",
       "      <td>3977.744996</td>\n",
       "      <td>26.916544</td>\n",
       "      <td>2021-08-20</td>\n",
       "      <td>8</td>\n",
       "      <td>Альберт</td>\n",
       "      <td>25</td>\n",
       "      <td>Краснодар</td>\n",
       "      <td>free</td>\n",
       "    </tr>\n",
       "    <tr>\n",
       "      <th>18062</th>\n",
       "      <td>1534</td>\n",
       "      <td>4928.173852</td>\n",
       "      <td>22.560373</td>\n",
       "      <td>2021-09-13</td>\n",
       "      <td>9</td>\n",
       "      <td>Альберт</td>\n",
       "      <td>25</td>\n",
       "      <td>Краснодар</td>\n",
       "      <td>free</td>\n",
       "    </tr>\n",
       "    <tr>\n",
       "      <th>18063</th>\n",
       "      <td>1534</td>\n",
       "      <td>3781.098080</td>\n",
       "      <td>19.822962</td>\n",
       "      <td>2021-11-04</td>\n",
       "      <td>11</td>\n",
       "      <td>Альберт</td>\n",
       "      <td>25</td>\n",
       "      <td>Краснодар</td>\n",
       "      <td>free</td>\n",
       "    </tr>\n",
       "    <tr>\n",
       "      <th>18064</th>\n",
       "      <td>1534</td>\n",
       "      <td>2840.423057</td>\n",
       "      <td>21.409799</td>\n",
       "      <td>2021-11-16</td>\n",
       "      <td>11</td>\n",
       "      <td>Альберт</td>\n",
       "      <td>25</td>\n",
       "      <td>Краснодар</td>\n",
       "      <td>free</td>\n",
       "    </tr>\n",
       "    <tr>\n",
       "      <th>18065</th>\n",
       "      <td>1534</td>\n",
       "      <td>3826.185507</td>\n",
       "      <td>18.435051</td>\n",
       "      <td>2021-11-18</td>\n",
       "      <td>11</td>\n",
       "      <td>Альберт</td>\n",
       "      <td>25</td>\n",
       "      <td>Краснодар</td>\n",
       "      <td>free</td>\n",
       "    </tr>\n",
       "    <tr>\n",
       "      <th>18066</th>\n",
       "      <td>1534</td>\n",
       "      <td>2902.308661</td>\n",
       "      <td>16.674362</td>\n",
       "      <td>2021-11-27</td>\n",
       "      <td>11</td>\n",
       "      <td>Альберт</td>\n",
       "      <td>25</td>\n",
       "      <td>Краснодар</td>\n",
       "      <td>free</td>\n",
       "    </tr>\n",
       "    <tr>\n",
       "      <th>18067</th>\n",
       "      <td>1534</td>\n",
       "      <td>2371.711192</td>\n",
       "      <td>15.893917</td>\n",
       "      <td>2021-12-29</td>\n",
       "      <td>12</td>\n",
       "      <td>Альберт</td>\n",
       "      <td>25</td>\n",
       "      <td>Краснодар</td>\n",
       "      <td>free</td>\n",
       "    </tr>\n",
       "  </tbody>\n",
       "</table>\n",
       "</div>"
      ],
      "text/plain": [
       "       user_id     distance   duration       date  month     name  age  \\\n",
       "18058     1534   195.447469   6.469074 2021-06-11      6  Альберт   25   \n",
       "18059     1534  3214.021065  18.343604 2021-06-18      6  Альберт   25   \n",
       "18060     1534  3644.708038  20.289416 2021-08-08      8  Альберт   25   \n",
       "18061     1534  3977.744996  26.916544 2021-08-20      8  Альберт   25   \n",
       "18062     1534  4928.173852  22.560373 2021-09-13      9  Альберт   25   \n",
       "18063     1534  3781.098080  19.822962 2021-11-04     11  Альберт   25   \n",
       "18064     1534  2840.423057  21.409799 2021-11-16     11  Альберт   25   \n",
       "18065     1534  3826.185507  18.435051 2021-11-18     11  Альберт   25   \n",
       "18066     1534  2902.308661  16.674362 2021-11-27     11  Альберт   25   \n",
       "18067     1534  2371.711192  15.893917 2021-12-29     12  Альберт   25   \n",
       "\n",
       "            city subscription_type  \n",
       "18058  Краснодар              free  \n",
       "18059  Краснодар              free  \n",
       "18060  Краснодар              free  \n",
       "18061  Краснодар              free  \n",
       "18062  Краснодар              free  \n",
       "18063  Краснодар              free  \n",
       "18064  Краснодар              free  \n",
       "18065  Краснодар              free  \n",
       "18066  Краснодар              free  \n",
       "18067  Краснодар              free  "
      ]
     },
     "execution_count": 28,
     "metadata": {},
     "output_type": "execute_result"
    }
   ],
   "source": [
    "data_merge = rides.merge(users, on = 'user_id', how = 'left')\n",
    "data_merge.tail(10)"
   ]
  },
  {
   "cell_type": "code",
   "execution_count": 29,
   "id": "f4c49343-4e31-4268-a57a-457335e064a2",
   "metadata": {},
   "outputs": [
    {
     "data": {
      "text/plain": [
       "(18068, 9)"
      ]
     },
     "execution_count": 29,
     "metadata": {},
     "output_type": "execute_result"
    }
   ],
   "source": [
    "data_merge.shape"
   ]
  },
  {
   "cell_type": "markdown",
   "id": "94296807-b8d0-4338-a88f-cb2fd7a19a9d",
   "metadata": {},
   "source": [
    "### 4.2. Создание таблицы пользователей с подпиской"
   ]
  },
  {
   "cell_type": "code",
   "execution_count": 30,
   "id": "39b892f9-9174-4890-850c-0dd94e1ca3a9",
   "metadata": {},
   "outputs": [
    {
     "data": {
      "text/html": [
       "<div>\n",
       "<style scoped>\n",
       "    .dataframe tbody tr th:only-of-type {\n",
       "        vertical-align: middle;\n",
       "    }\n",
       "\n",
       "    .dataframe tbody tr th {\n",
       "        vertical-align: top;\n",
       "    }\n",
       "\n",
       "    .dataframe thead th {\n",
       "        text-align: right;\n",
       "    }\n",
       "</style>\n",
       "<table border=\"1\" class=\"dataframe\">\n",
       "  <thead>\n",
       "    <tr style=\"text-align: right;\">\n",
       "      <th></th>\n",
       "      <th>user_id</th>\n",
       "      <th>distance</th>\n",
       "      <th>duration</th>\n",
       "      <th>date</th>\n",
       "      <th>month</th>\n",
       "      <th>name</th>\n",
       "      <th>age</th>\n",
       "      <th>city</th>\n",
       "      <th>subscription_type</th>\n",
       "    </tr>\n",
       "  </thead>\n",
       "  <tbody>\n",
       "    <tr>\n",
       "      <th>0</th>\n",
       "      <td>1</td>\n",
       "      <td>4409.919140</td>\n",
       "      <td>25.599769</td>\n",
       "      <td>2021-01-01</td>\n",
       "      <td>1</td>\n",
       "      <td>Кира</td>\n",
       "      <td>22</td>\n",
       "      <td>Тюмень</td>\n",
       "      <td>ultra</td>\n",
       "    </tr>\n",
       "    <tr>\n",
       "      <th>1</th>\n",
       "      <td>1</td>\n",
       "      <td>2617.592153</td>\n",
       "      <td>15.816871</td>\n",
       "      <td>2021-01-18</td>\n",
       "      <td>1</td>\n",
       "      <td>Кира</td>\n",
       "      <td>22</td>\n",
       "      <td>Тюмень</td>\n",
       "      <td>ultra</td>\n",
       "    </tr>\n",
       "    <tr>\n",
       "      <th>2</th>\n",
       "      <td>1</td>\n",
       "      <td>754.159807</td>\n",
       "      <td>6.232113</td>\n",
       "      <td>2021-04-20</td>\n",
       "      <td>4</td>\n",
       "      <td>Кира</td>\n",
       "      <td>22</td>\n",
       "      <td>Тюмень</td>\n",
       "      <td>ultra</td>\n",
       "    </tr>\n",
       "    <tr>\n",
       "      <th>3</th>\n",
       "      <td>1</td>\n",
       "      <td>2694.783254</td>\n",
       "      <td>18.511000</td>\n",
       "      <td>2021-08-11</td>\n",
       "      <td>8</td>\n",
       "      <td>Кира</td>\n",
       "      <td>22</td>\n",
       "      <td>Тюмень</td>\n",
       "      <td>ultra</td>\n",
       "    </tr>\n",
       "    <tr>\n",
       "      <th>4</th>\n",
       "      <td>1</td>\n",
       "      <td>4028.687306</td>\n",
       "      <td>26.265803</td>\n",
       "      <td>2021-08-28</td>\n",
       "      <td>8</td>\n",
       "      <td>Кира</td>\n",
       "      <td>22</td>\n",
       "      <td>Тюмень</td>\n",
       "      <td>ultra</td>\n",
       "    </tr>\n",
       "  </tbody>\n",
       "</table>\n",
       "</div>"
      ],
      "text/plain": [
       "   user_id     distance   duration       date  month  name  age    city  \\\n",
       "0        1  4409.919140  25.599769 2021-01-01      1  Кира   22  Тюмень   \n",
       "1        1  2617.592153  15.816871 2021-01-18      1  Кира   22  Тюмень   \n",
       "2        1   754.159807   6.232113 2021-04-20      4  Кира   22  Тюмень   \n",
       "3        1  2694.783254  18.511000 2021-08-11      8  Кира   22  Тюмень   \n",
       "4        1  4028.687306  26.265803 2021-08-28      8  Кира   22  Тюмень   \n",
       "\n",
       "  subscription_type  \n",
       "0             ultra  \n",
       "1             ultra  \n",
       "2             ultra  \n",
       "3             ultra  \n",
       "4             ultra  "
      ]
     },
     "execution_count": 30,
     "metadata": {},
     "output_type": "execute_result"
    }
   ],
   "source": [
    "data_subs_ultra = data_merge.query('subscription_type == \"ultra\" ')\n",
    "data_subs_ultra.head()"
   ]
  },
  {
   "cell_type": "code",
   "execution_count": 31,
   "id": "0603df52-b0ba-4470-8fc6-caaac8ba2572",
   "metadata": {},
   "outputs": [
    {
     "data": {
      "text/plain": [
       "(6500, 9)"
      ]
     },
     "execution_count": 31,
     "metadata": {},
     "output_type": "execute_result"
    }
   ],
   "source": [
    "data_subs_ultra.shape"
   ]
  },
  {
   "cell_type": "markdown",
   "id": "4c8fda12-c4fe-4463-8cfe-f3b1600ce4ae",
   "metadata": {},
   "source": [
    "Посмотрим на расстояние, которое проезжают пользователи с подпиской"
   ]
  },
  {
   "cell_type": "code",
   "execution_count": 32,
   "id": "1e6c1e4b-7534-4162-93cf-c7a8b044364a",
   "metadata": {},
   "outputs": [
    {
     "data": {
      "image/png": "[encoded data removed]",
      "text/plain": [
       "<Figure size 1080x360 with 1 Axes>"
      ]
     },
     "metadata": {
      "needs_background": "light"
     },
     "output_type": "display_data"
    }
   ],
   "source": [
    "data_subs_ultra['distance'].hist(\n",
    "    bins = 300,\n",
    "    grid = True,\n",
    "    figsize = (15, 5),\n",
    "    color = 'pink'\n",
    ")\n",
    "plt.xlabel('\\n'+'Расстояние, м', color = 'blue', fontsize = 12)\n",
    "plt.ylabel('\\n'+'Количество поездок', color = 'blue', fontsize = 12)\n",
    "plt.title('Расстояния, которые проезжали пользователи с подпиской' +'\\n', color = 'blue', fontsize = 14);"
   ]
  },
  {
   "cell_type": "markdown",
   "id": "80cee5a6-8801-4dd1-9bc5-33831997b6f3",
   "metadata": {},
   "source": [
    "Основная масса значений находится в пределах 2800 - 3500 метров. Есть доля расстояний меньше 1 км и больше 5 км\n",
    "\n",
    "Посмотрим теперь на продолжительность поездок"
   ]
  },
  {
   "cell_type": "code",
   "execution_count": 33,
   "id": "3414207e-3469-47c5-8694-7f76e0286605",
   "metadata": {},
   "outputs": [
    {
     "data": {
      "image/png": "[encoded data removed]",
      "text/plain": [
       "<Figure size 1080x360 with 1 Axes>"
      ]
     },
     "metadata": {
      "needs_background": "light"
     },
     "output_type": "display_data"
    }
   ],
   "source": [
    " data_subs_ultra['duration'].hist(\n",
    "    bins = 200,\n",
    "    grid = True,\n",
    "    figsize = (15, 5),\n",
    "    color = 'purple'\n",
    ")\n",
    "plt.xlabel('\\n'+'Время, мин', color = 'blue', fontsize = 12)\n",
    "plt.ylabel('\\n'+'Количество поездок', color = 'blue', fontsize = 12)\n",
    "plt.title('Продолжительность поездок пользователей с подпиской' +'\\n', color = 'blue', fontsize = 14);"
   ]
  },
  {
   "cell_type": "markdown",
   "id": "a53dc439-6ab6-4b78-ac06-b329677fbf1c",
   "metadata": {},
   "source": [
    "График похож на нормальное распределение. Пользователи с подпиской в основном берут самокат на срок от 13 до 22 минут."
   ]
  },
  {
   "cell_type": "markdown",
   "id": "01301b3e-bb6c-4197-82b7-76bb73255050",
   "metadata": {},
   "source": [
    "### 4.3. Создание таблицы пользователей без подписки"
   ]
  },
  {
   "cell_type": "code",
   "execution_count": 34,
   "id": "6f747e0e-f70b-46f1-87ea-46297352455a",
   "metadata": {},
   "outputs": [
    {
     "data": {
      "text/html": [
       "<div>\n",
       "<style scoped>\n",
       "    .dataframe tbody tr th:only-of-type {\n",
       "        vertical-align: middle;\n",
       "    }\n",
       "\n",
       "    .dataframe tbody tr th {\n",
       "        vertical-align: top;\n",
       "    }\n",
       "\n",
       "    .dataframe thead th {\n",
       "        text-align: right;\n",
       "    }\n",
       "</style>\n",
       "<table border=\"1\" class=\"dataframe\">\n",
       "  <thead>\n",
       "    <tr style=\"text-align: right;\">\n",
       "      <th></th>\n",
       "      <th>user_id</th>\n",
       "      <th>distance</th>\n",
       "      <th>duration</th>\n",
       "      <th>date</th>\n",
       "      <th>month</th>\n",
       "      <th>name</th>\n",
       "      <th>age</th>\n",
       "      <th>city</th>\n",
       "      <th>subscription_type</th>\n",
       "    </tr>\n",
       "  </thead>\n",
       "  <tbody>\n",
       "    <tr>\n",
       "      <th>6500</th>\n",
       "      <td>700</td>\n",
       "      <td>2515.690719</td>\n",
       "      <td>14.944286</td>\n",
       "      <td>2021-01-02</td>\n",
       "      <td>1</td>\n",
       "      <td>Айдар</td>\n",
       "      <td>22</td>\n",
       "      <td>Омск</td>\n",
       "      <td>free</td>\n",
       "    </tr>\n",
       "    <tr>\n",
       "      <th>6501</th>\n",
       "      <td>700</td>\n",
       "      <td>846.932642</td>\n",
       "      <td>16.234663</td>\n",
       "      <td>2021-02-01</td>\n",
       "      <td>2</td>\n",
       "      <td>Айдар</td>\n",
       "      <td>22</td>\n",
       "      <td>Омск</td>\n",
       "      <td>free</td>\n",
       "    </tr>\n",
       "    <tr>\n",
       "      <th>6502</th>\n",
       "      <td>700</td>\n",
       "      <td>4004.434142</td>\n",
       "      <td>20.016628</td>\n",
       "      <td>2021-02-04</td>\n",
       "      <td>2</td>\n",
       "      <td>Айдар</td>\n",
       "      <td>22</td>\n",
       "      <td>Омск</td>\n",
       "      <td>free</td>\n",
       "    </tr>\n",
       "    <tr>\n",
       "      <th>6503</th>\n",
       "      <td>700</td>\n",
       "      <td>1205.911290</td>\n",
       "      <td>9.782872</td>\n",
       "      <td>2021-02-10</td>\n",
       "      <td>2</td>\n",
       "      <td>Айдар</td>\n",
       "      <td>22</td>\n",
       "      <td>Омск</td>\n",
       "      <td>free</td>\n",
       "    </tr>\n",
       "    <tr>\n",
       "      <th>6504</th>\n",
       "      <td>700</td>\n",
       "      <td>3047.379435</td>\n",
       "      <td>17.427673</td>\n",
       "      <td>2021-02-14</td>\n",
       "      <td>2</td>\n",
       "      <td>Айдар</td>\n",
       "      <td>22</td>\n",
       "      <td>Омск</td>\n",
       "      <td>free</td>\n",
       "    </tr>\n",
       "  </tbody>\n",
       "</table>\n",
       "</div>"
      ],
      "text/plain": [
       "      user_id     distance   duration       date  month   name  age  city  \\\n",
       "6500      700  2515.690719  14.944286 2021-01-02      1  Айдар   22  Омск   \n",
       "6501      700   846.932642  16.234663 2021-02-01      2  Айдар   22  Омск   \n",
       "6502      700  4004.434142  20.016628 2021-02-04      2  Айдар   22  Омск   \n",
       "6503      700  1205.911290   9.782872 2021-02-10      2  Айдар   22  Омск   \n",
       "6504      700  3047.379435  17.427673 2021-02-14      2  Айдар   22  Омск   \n",
       "\n",
       "     subscription_type  \n",
       "6500              free  \n",
       "6501              free  \n",
       "6502              free  \n",
       "6503              free  \n",
       "6504              free  "
      ]
     },
     "execution_count": 34,
     "metadata": {},
     "output_type": "execute_result"
    }
   ],
   "source": [
    "data_subs_free = data_merge.query('subscription_type == \"free\" ')\n",
    "data_subs_free.head()"
   ]
  },
  {
   "cell_type": "code",
   "execution_count": 35,
   "id": "122c5d06-d726-4b8f-a853-bebde2d75335",
   "metadata": {},
   "outputs": [
    {
     "data": {
      "text/plain": [
       "(11568, 9)"
      ]
     },
     "execution_count": 35,
     "metadata": {},
     "output_type": "execute_result"
    }
   ],
   "source": [
    "data_subs_free.shape"
   ]
  },
  {
   "cell_type": "markdown",
   "id": "5cd78fff-f078-4cb8-a51b-8c4f6adcc3df",
   "metadata": {},
   "source": [
    "Посмотрим на дальность поездок пользователей без подписки"
   ]
  },
  {
   "cell_type": "code",
   "execution_count": 36,
   "id": "a01205a1-cff4-41db-8861-b8139ce43950",
   "metadata": {},
   "outputs": [
    {
     "data": {
      "image/png": "[encoded data removed]",
      "text/plain": [
       "<Figure size 1080x360 with 1 Axes>"
      ]
     },
     "metadata": {
      "needs_background": "light"
     },
     "output_type": "display_data"
    }
   ],
   "source": [
    "data_subs_free['distance'].hist(\n",
    "    bins = 300,\n",
    "    grid = True,\n",
    "    figsize = (15, 5),\n",
    "    color = 'lightgreen'\n",
    ")\n",
    "plt.xlabel('\\n'+'Расстояние, м', color = 'blue', fontsize = 12)\n",
    "plt.ylabel('\\n'+'Количество поездок', color = 'blue', fontsize = 12)\n",
    "plt.title('Расстояния, которые проезжали пользователи без подписки' +'\\n', color = 'blue', fontsize = 14);"
   ]
  },
  {
   "cell_type": "markdown",
   "id": "67e7a212-a099-4922-bd41-322798810458",
   "metadata": {},
   "source": [
    "Пользователи без подписки проезжают в основном от 2000 до 4500 метров, но у них увеливается количество поездок менее 1000 метров"
   ]
  },
  {
   "cell_type": "code",
   "execution_count": 37,
   "id": "e3a2a3b8-50ed-474e-9910-772f75d1300f",
   "metadata": {},
   "outputs": [
    {
     "data": {
      "image/png": "[encoded data removed]",
      "text/plain": [
       "<Figure size 1080x360 with 1 Axes>"
      ]
     },
     "metadata": {
      "needs_background": "light"
     },
     "output_type": "display_data"
    }
   ],
   "source": [
    " data_subs_free['duration'].hist(\n",
    "    bins = 200,\n",
    "    grid = True,\n",
    "    figsize = (15, 5),\n",
    "    color = 'purple'\n",
    ")\n",
    "plt.xlabel('\\n'+'Время, мин', color = 'blue', fontsize = 12)\n",
    "plt.ylabel('\\n'+'Количество поездок', color = 'blue', fontsize = 12)\n",
    "plt.title('Продолжительность поездок пользователей без подписки' +'\\n', color = 'blue', fontsize = 14);"
   ]
  },
  {
   "cell_type": "markdown",
   "id": "527561e2-840e-4df4-a47a-076546e818f1",
   "metadata": {},
   "source": [
    "График похож на нормальное распределение. Пользователи без подписки берут самокат в аренду преимущественно на срок от 12 до 23 минут."
   ]
  },
  {
   "cell_type": "code",
   "execution_count": 38,
   "id": "701e45ee-9bad-44a1-bcdd-95fd6e1d9a2a",
   "metadata": {},
   "outputs": [
    {
     "data": {
      "image/png": "[encoded data removed]",
      "text/plain": [
       "<Figure size 1080x360 with 1 Axes>"
      ]
     },
     "metadata": {
      "needs_background": "light"
     },
     "output_type": "display_data"
    }
   ],
   "source": [
    "#Совместим графики дальности поездок пользователей с подпиской и без\n",
    "ax = data_subs_ultra['distance'].hist(\n",
    "    bins = 300,\n",
    "    grid = True,\n",
    "    figsize = (15, 5),\n",
    "    color = 'blue',\n",
    "    label = 'Пользователи с подпиской'\n",
    ")\n",
    "data_subs_free['distance'].hist(\n",
    "    bins = 300,\n",
    "    grid = True,\n",
    "    figsize = (15, 5),\n",
    "    color = 'green',\n",
    "    alpha = 0.4,\n",
    "    label = 'Пользователи без подписки'\n",
    ")\n",
    "ax.legend(loc = 'best')\n",
    "plt.xlabel('\\n'+'Расстояние, м', color = 'blue', fontsize = 12)\n",
    "plt.ylabel('\\n'+'Количество поездок', color = 'blue', fontsize = 12)\n",
    "plt.title('Графики дальности поездок пользователей' +'\\n', color = 'blue', fontsize = 14);"
   ]
  },
  {
   "cell_type": "code",
   "execution_count": 39,
   "id": "b26fd868-0bfb-4639-9491-4364c4fa9605",
   "metadata": {},
   "outputs": [
    {
     "data": {
      "image/png": "[encoded data removed]",
      "text/plain": [
       "<Figure size 1080x360 with 1 Axes>"
      ]
     },
     "metadata": {
      "needs_background": "light"
     },
     "output_type": "display_data"
    }
   ],
   "source": [
    "# Совместим графики длительности поездок\n",
    "ax = data_subs_ultra['duration'].hist(\n",
    "    bins = 300,\n",
    "    grid = True,\n",
    "    figsize = (15, 5),\n",
    "    color = 'blue',\n",
    "    label = 'Пользователи с подпиской'\n",
    ")\n",
    "data_subs_free['duration'].hist(\n",
    "    bins = 300,\n",
    "    grid = True,\n",
    "    figsize = (15, 5),\n",
    "    color = 'green',\n",
    "    alpha = 0.4,\n",
    "    label = 'Пользователи без подписки'\n",
    ")\n",
    "ax.legend(loc = 'best')\n",
    "plt.xlabel('\\n'+'Время, мин', color = 'blue', fontsize = 12)\n",
    "plt.ylabel('\\n'+'Количество поездок', color = 'blue', fontsize = 12)\n",
    "plt.title('Графики длительности поездок пользователей' +'\\n', color = 'blue', fontsize = 14);"
   ]
  },
  {
   "cell_type": "markdown",
   "id": "a7af4c07-99f4-4d39-b0f7-8ecd04adaa04",
   "metadata": {},
   "source": [
    "По совмещенным графикам дальности и длительности поездок видно, что графики пользователей с подпиской имеют меньший разброс параметров, собраны ближе к центру. Особенно это четко видно на расстоянии, которое проезжали пользователи. Дальность поездок пользователей без подписки в основном сосредоточена в диапазоне от 2000 до 4500 метров, а пользователей с подпиской от 2800 до 3500 м. У пользователей без подписки высокая доля коротких поездок (меньше 1000 метров), а так же растягивается хвост длинных поездок (больше 5000 м). Графики длительности поездок по времени приблизительно совпадают в основных значения от 13 до 23 минут, но мы видим большое количество непродолжительных поездок (меньше 10 минут) у пользователей без подписки."
   ]
  },
  {
   "cell_type": "markdown",
   "id": "68f58d79-a5eb-423f-9def-0145b1e1999b",
   "metadata": {},
   "source": [
    "## 5. Подсчет выручки\n"
   ]
  },
  {
   "cell_type": "code",
   "execution_count": 40,
   "id": "358543bd-9cc8-44f4-979b-8ed47b25da7b",
   "metadata": {
    "scrolled": true,
    "tags": []
   },
   "outputs": [
    {
     "name": "stderr",
     "output_type": "stream",
     "text": [
      "C:\\Users\\279A~1\\AppData\\Local\\Temp/ipykernel_7368/3682305618.py:2: SettingWithCopyWarning: \n",
      "A value is trying to be set on a copy of a slice from a DataFrame.\n",
      "Try using .loc[row_indexer,col_indexer] = value instead\n",
      "\n",
      "See the caveats in the documentation: https://pandas.pydata.org/pandas-docs/stable/user_guide/indexing.html#returning-a-view-versus-a-copy\n",
      "  data_subs_ultra['duration'] = np.ceil(data_subs_ultra['duration'])\n"
     ]
    },
    {
     "data": {
      "text/html": [
       "<div>\n",
       "<style scoped>\n",
       "    .dataframe tbody tr th:only-of-type {\n",
       "        vertical-align: middle;\n",
       "    }\n",
       "\n",
       "    .dataframe tbody tr th {\n",
       "        vertical-align: top;\n",
       "    }\n",
       "\n",
       "    .dataframe thead th {\n",
       "        text-align: right;\n",
       "    }\n",
       "</style>\n",
       "<table border=\"1\" class=\"dataframe\">\n",
       "  <thead>\n",
       "    <tr style=\"text-align: right;\">\n",
       "      <th></th>\n",
       "      <th>user_id</th>\n",
       "      <th>distance</th>\n",
       "      <th>duration</th>\n",
       "      <th>date</th>\n",
       "      <th>month</th>\n",
       "      <th>name</th>\n",
       "      <th>age</th>\n",
       "      <th>city</th>\n",
       "      <th>subscription_type</th>\n",
       "    </tr>\n",
       "  </thead>\n",
       "  <tbody>\n",
       "    <tr>\n",
       "      <th>0</th>\n",
       "      <td>1</td>\n",
       "      <td>4409.919140</td>\n",
       "      <td>26.0</td>\n",
       "      <td>2021-01-01</td>\n",
       "      <td>1</td>\n",
       "      <td>Кира</td>\n",
       "      <td>22</td>\n",
       "      <td>Тюмень</td>\n",
       "      <td>ultra</td>\n",
       "    </tr>\n",
       "    <tr>\n",
       "      <th>1</th>\n",
       "      <td>1</td>\n",
       "      <td>2617.592153</td>\n",
       "      <td>16.0</td>\n",
       "      <td>2021-01-18</td>\n",
       "      <td>1</td>\n",
       "      <td>Кира</td>\n",
       "      <td>22</td>\n",
       "      <td>Тюмень</td>\n",
       "      <td>ultra</td>\n",
       "    </tr>\n",
       "    <tr>\n",
       "      <th>2</th>\n",
       "      <td>1</td>\n",
       "      <td>754.159807</td>\n",
       "      <td>7.0</td>\n",
       "      <td>2021-04-20</td>\n",
       "      <td>4</td>\n",
       "      <td>Кира</td>\n",
       "      <td>22</td>\n",
       "      <td>Тюмень</td>\n",
       "      <td>ultra</td>\n",
       "    </tr>\n",
       "    <tr>\n",
       "      <th>3</th>\n",
       "      <td>1</td>\n",
       "      <td>2694.783254</td>\n",
       "      <td>19.0</td>\n",
       "      <td>2021-08-11</td>\n",
       "      <td>8</td>\n",
       "      <td>Кира</td>\n",
       "      <td>22</td>\n",
       "      <td>Тюмень</td>\n",
       "      <td>ultra</td>\n",
       "    </tr>\n",
       "    <tr>\n",
       "      <th>4</th>\n",
       "      <td>1</td>\n",
       "      <td>4028.687306</td>\n",
       "      <td>27.0</td>\n",
       "      <td>2021-08-28</td>\n",
       "      <td>8</td>\n",
       "      <td>Кира</td>\n",
       "      <td>22</td>\n",
       "      <td>Тюмень</td>\n",
       "      <td>ultra</td>\n",
       "    </tr>\n",
       "  </tbody>\n",
       "</table>\n",
       "</div>"
      ],
      "text/plain": [
       "   user_id     distance  duration       date  month  name  age    city  \\\n",
       "0        1  4409.919140      26.0 2021-01-01      1  Кира   22  Тюмень   \n",
       "1        1  2617.592153      16.0 2021-01-18      1  Кира   22  Тюмень   \n",
       "2        1   754.159807       7.0 2021-04-20      4  Кира   22  Тюмень   \n",
       "3        1  2694.783254      19.0 2021-08-11      8  Кира   22  Тюмень   \n",
       "4        1  4028.687306      27.0 2021-08-28      8  Кира   22  Тюмень   \n",
       "\n",
       "  subscription_type  \n",
       "0             ultra  \n",
       "1             ultra  \n",
       "2             ultra  \n",
       "3             ultra  \n",
       "4             ultra  "
      ]
     },
     "execution_count": 40,
     "metadata": {},
     "output_type": "execute_result"
    }
   ],
   "source": [
    "# округлим столбец 'duration' до следующего целого числа\n",
    "data_subs_ultra['duration'] = np.ceil(data_subs_ultra['duration'])\n",
    "data_subs_ultra.head()"
   ]
  },
  {
   "cell_type": "code",
   "execution_count": 41,
   "id": "fec2c3f1-b9db-4f40-9aee-cdd52a8e9405",
   "metadata": {
    "tags": []
   },
   "outputs": [
    {
     "data": {
      "text/html": [
       "<div>\n",
       "<style scoped>\n",
       "    .dataframe tbody tr th:only-of-type {\n",
       "        vertical-align: middle;\n",
       "    }\n",
       "\n",
       "    .dataframe tbody tr th {\n",
       "        vertical-align: top;\n",
       "    }\n",
       "\n",
       "    .dataframe thead th {\n",
       "        text-align: right;\n",
       "    }\n",
       "</style>\n",
       "<table border=\"1\" class=\"dataframe\">\n",
       "  <thead>\n",
       "    <tr style=\"text-align: right;\">\n",
       "      <th></th>\n",
       "      <th>user_id</th>\n",
       "      <th>month</th>\n",
       "      <th>subscription_type</th>\n",
       "      <th>rides</th>\n",
       "      <th>union_distance</th>\n",
       "      <th>union_duration</th>\n",
       "    </tr>\n",
       "  </thead>\n",
       "  <tbody>\n",
       "    <tr>\n",
       "      <th>0</th>\n",
       "      <td>1</td>\n",
       "      <td>1</td>\n",
       "      <td>ultra</td>\n",
       "      <td>2</td>\n",
       "      <td>7027.511294</td>\n",
       "      <td>42.0</td>\n",
       "    </tr>\n",
       "    <tr>\n",
       "      <th>1</th>\n",
       "      <td>1</td>\n",
       "      <td>4</td>\n",
       "      <td>ultra</td>\n",
       "      <td>1</td>\n",
       "      <td>754.159807</td>\n",
       "      <td>7.0</td>\n",
       "    </tr>\n",
       "    <tr>\n",
       "      <th>2</th>\n",
       "      <td>1</td>\n",
       "      <td>8</td>\n",
       "      <td>ultra</td>\n",
       "      <td>2</td>\n",
       "      <td>6723.470560</td>\n",
       "      <td>46.0</td>\n",
       "    </tr>\n",
       "    <tr>\n",
       "      <th>3</th>\n",
       "      <td>1</td>\n",
       "      <td>10</td>\n",
       "      <td>ultra</td>\n",
       "      <td>2</td>\n",
       "      <td>5809.911100</td>\n",
       "      <td>32.0</td>\n",
       "    </tr>\n",
       "    <tr>\n",
       "      <th>4</th>\n",
       "      <td>1</td>\n",
       "      <td>11</td>\n",
       "      <td>ultra</td>\n",
       "      <td>3</td>\n",
       "      <td>7003.499363</td>\n",
       "      <td>56.0</td>\n",
       "    </tr>\n",
       "  </tbody>\n",
       "</table>\n",
       "</div>"
      ],
      "text/plain": [
       "   user_id  month subscription_type  rides  union_distance  union_duration\n",
       "0        1      1             ultra      2     7027.511294            42.0\n",
       "1        1      4             ultra      1      754.159807             7.0\n",
       "2        1      8             ultra      2     6723.470560            46.0\n",
       "3        1     10             ultra      2     5809.911100            32.0\n",
       "4        1     11             ultra      3     7003.499363            56.0"
      ]
     },
     "execution_count": 41,
     "metadata": {},
     "output_type": "execute_result"
    }
   ],
   "source": [
    "#Создадим сводную таблицу, по пользователям c подпиской\n",
    "# в которой посчитаем количество поездок пользователей по месяцам,\n",
    "#суммарное расстояние и суммарную длительность поездок\n",
    "\n",
    "data_subs_ultra_pivot = data_subs_ultra.pivot_table(\n",
    "   index = ['user_id', 'month','subscription_type'],\n",
    "    values = ['distance','duration'],\n",
    "    aggfunc = {'distance': ['count', 'sum'], 'duration':'sum'}\n",
    ").reset_index()\n",
    "data_subs_ultra_pivot.columns = ['user_id','month','subscription_type','rides', 'union_distance', 'union_duration']\n",
    "data_subs_ultra_pivot.head()\n"
   ]
  },
  {
   "cell_type": "code",
   "execution_count": 42,
   "id": "f83f2407-4dbf-4761-b069-9bfeaacf5b7d",
   "metadata": {},
   "outputs": [
    {
     "data": {
      "text/html": [
       "<div>\n",
       "<style scoped>\n",
       "    .dataframe tbody tr th:only-of-type {\n",
       "        vertical-align: middle;\n",
       "    }\n",
       "\n",
       "    .dataframe tbody tr th {\n",
       "        vertical-align: top;\n",
       "    }\n",
       "\n",
       "    .dataframe thead th {\n",
       "        text-align: right;\n",
       "    }\n",
       "</style>\n",
       "<table border=\"1\" class=\"dataframe\">\n",
       "  <thead>\n",
       "    <tr style=\"text-align: right;\">\n",
       "      <th></th>\n",
       "      <th>user_id</th>\n",
       "      <th>month</th>\n",
       "      <th>subscription_type</th>\n",
       "      <th>rides</th>\n",
       "      <th>union_distance</th>\n",
       "      <th>union_duration</th>\n",
       "    </tr>\n",
       "  </thead>\n",
       "  <tbody>\n",
       "    <tr>\n",
       "      <th>0</th>\n",
       "      <td>1</td>\n",
       "      <td>1</td>\n",
       "      <td>ultra</td>\n",
       "      <td>2</td>\n",
       "      <td>7027.51</td>\n",
       "      <td>42.0</td>\n",
       "    </tr>\n",
       "    <tr>\n",
       "      <th>1</th>\n",
       "      <td>1</td>\n",
       "      <td>4</td>\n",
       "      <td>ultra</td>\n",
       "      <td>1</td>\n",
       "      <td>754.16</td>\n",
       "      <td>7.0</td>\n",
       "    </tr>\n",
       "    <tr>\n",
       "      <th>2</th>\n",
       "      <td>1</td>\n",
       "      <td>8</td>\n",
       "      <td>ultra</td>\n",
       "      <td>2</td>\n",
       "      <td>6723.47</td>\n",
       "      <td>46.0</td>\n",
       "    </tr>\n",
       "    <tr>\n",
       "      <th>3</th>\n",
       "      <td>1</td>\n",
       "      <td>10</td>\n",
       "      <td>ultra</td>\n",
       "      <td>2</td>\n",
       "      <td>5809.91</td>\n",
       "      <td>32.0</td>\n",
       "    </tr>\n",
       "    <tr>\n",
       "      <th>4</th>\n",
       "      <td>1</td>\n",
       "      <td>11</td>\n",
       "      <td>ultra</td>\n",
       "      <td>3</td>\n",
       "      <td>7003.50</td>\n",
       "      <td>56.0</td>\n",
       "    </tr>\n",
       "  </tbody>\n",
       "</table>\n",
       "</div>"
      ],
      "text/plain": [
       "   user_id  month subscription_type  rides  union_distance  union_duration\n",
       "0        1      1             ultra      2         7027.51            42.0\n",
       "1        1      4             ultra      1          754.16             7.0\n",
       "2        1      8             ultra      2         6723.47            46.0\n",
       "3        1     10             ultra      2         5809.91            32.0\n",
       "4        1     11             ultra      3         7003.50            56.0"
      ]
     },
     "execution_count": 42,
     "metadata": {},
     "output_type": "execute_result"
    }
   ],
   "source": [
    "# Округлим  столбец 'union_distance' до сотых\n",
    "\n",
    "data_subs_ultra_pivot['union_distance'] = round(data_subs_ultra_pivot['union_distance'], 2)\n",
    "data_subs_ultra_pivot.head()"
   ]
  },
  {
   "cell_type": "code",
   "execution_count": 43,
   "id": "1a18962e-9f45-4894-b183-bf04b1753bde",
   "metadata": {
    "scrolled": true
   },
   "outputs": [
    {
     "name": "stderr",
     "output_type": "stream",
     "text": [
      "C:\\Users\\279A~1\\AppData\\Local\\Temp/ipykernel_7368/1663001305.py:2: SettingWithCopyWarning: \n",
      "A value is trying to be set on a copy of a slice from a DataFrame.\n",
      "Try using .loc[row_indexer,col_indexer] = value instead\n",
      "\n",
      "See the caveats in the documentation: https://pandas.pydata.org/pandas-docs/stable/user_guide/indexing.html#returning-a-view-versus-a-copy\n",
      "  data_subs_free['duration'] = np.ceil(data_subs_free['duration'])\n"
     ]
    },
    {
     "data": {
      "text/html": [
       "<div>\n",
       "<style scoped>\n",
       "    .dataframe tbody tr th:only-of-type {\n",
       "        vertical-align: middle;\n",
       "    }\n",
       "\n",
       "    .dataframe tbody tr th {\n",
       "        vertical-align: top;\n",
       "    }\n",
       "\n",
       "    .dataframe thead th {\n",
       "        text-align: right;\n",
       "    }\n",
       "</style>\n",
       "<table border=\"1\" class=\"dataframe\">\n",
       "  <thead>\n",
       "    <tr style=\"text-align: right;\">\n",
       "      <th></th>\n",
       "      <th>user_id</th>\n",
       "      <th>distance</th>\n",
       "      <th>duration</th>\n",
       "      <th>date</th>\n",
       "      <th>month</th>\n",
       "      <th>name</th>\n",
       "      <th>age</th>\n",
       "      <th>city</th>\n",
       "      <th>subscription_type</th>\n",
       "    </tr>\n",
       "  </thead>\n",
       "  <tbody>\n",
       "    <tr>\n",
       "      <th>6500</th>\n",
       "      <td>700</td>\n",
       "      <td>2515.690719</td>\n",
       "      <td>15.0</td>\n",
       "      <td>2021-01-02</td>\n",
       "      <td>1</td>\n",
       "      <td>Айдар</td>\n",
       "      <td>22</td>\n",
       "      <td>Омск</td>\n",
       "      <td>free</td>\n",
       "    </tr>\n",
       "    <tr>\n",
       "      <th>6501</th>\n",
       "      <td>700</td>\n",
       "      <td>846.932642</td>\n",
       "      <td>17.0</td>\n",
       "      <td>2021-02-01</td>\n",
       "      <td>2</td>\n",
       "      <td>Айдар</td>\n",
       "      <td>22</td>\n",
       "      <td>Омск</td>\n",
       "      <td>free</td>\n",
       "    </tr>\n",
       "    <tr>\n",
       "      <th>6502</th>\n",
       "      <td>700</td>\n",
       "      <td>4004.434142</td>\n",
       "      <td>21.0</td>\n",
       "      <td>2021-02-04</td>\n",
       "      <td>2</td>\n",
       "      <td>Айдар</td>\n",
       "      <td>22</td>\n",
       "      <td>Омск</td>\n",
       "      <td>free</td>\n",
       "    </tr>\n",
       "    <tr>\n",
       "      <th>6503</th>\n",
       "      <td>700</td>\n",
       "      <td>1205.911290</td>\n",
       "      <td>10.0</td>\n",
       "      <td>2021-02-10</td>\n",
       "      <td>2</td>\n",
       "      <td>Айдар</td>\n",
       "      <td>22</td>\n",
       "      <td>Омск</td>\n",
       "      <td>free</td>\n",
       "    </tr>\n",
       "    <tr>\n",
       "      <th>6504</th>\n",
       "      <td>700</td>\n",
       "      <td>3047.379435</td>\n",
       "      <td>18.0</td>\n",
       "      <td>2021-02-14</td>\n",
       "      <td>2</td>\n",
       "      <td>Айдар</td>\n",
       "      <td>22</td>\n",
       "      <td>Омск</td>\n",
       "      <td>free</td>\n",
       "    </tr>\n",
       "  </tbody>\n",
       "</table>\n",
       "</div>"
      ],
      "text/plain": [
       "      user_id     distance  duration       date  month   name  age  city  \\\n",
       "6500      700  2515.690719      15.0 2021-01-02      1  Айдар   22  Омск   \n",
       "6501      700   846.932642      17.0 2021-02-01      2  Айдар   22  Омск   \n",
       "6502      700  4004.434142      21.0 2021-02-04      2  Айдар   22  Омск   \n",
       "6503      700  1205.911290      10.0 2021-02-10      2  Айдар   22  Омск   \n",
       "6504      700  3047.379435      18.0 2021-02-14      2  Айдар   22  Омск   \n",
       "\n",
       "     subscription_type  \n",
       "6500              free  \n",
       "6501              free  \n",
       "6502              free  \n",
       "6503              free  \n",
       "6504              free  "
      ]
     },
     "execution_count": 43,
     "metadata": {},
     "output_type": "execute_result"
    }
   ],
   "source": [
    "# Округлим столбец 'duration' в таблице с пользователями без подписки\n",
    "data_subs_free['duration'] = np.ceil(data_subs_free['duration'])\n",
    "data_subs_free.head()"
   ]
  },
  {
   "cell_type": "code",
   "execution_count": 44,
   "id": "aff2c3f5-47d9-47d3-9fb0-99e3a88cd6af",
   "metadata": {},
   "outputs": [
    {
     "data": {
      "text/html": [
       "<div>\n",
       "<style scoped>\n",
       "    .dataframe tbody tr th:only-of-type {\n",
       "        vertical-align: middle;\n",
       "    }\n",
       "\n",
       "    .dataframe tbody tr th {\n",
       "        vertical-align: top;\n",
       "    }\n",
       "\n",
       "    .dataframe thead th {\n",
       "        text-align: right;\n",
       "    }\n",
       "</style>\n",
       "<table border=\"1\" class=\"dataframe\">\n",
       "  <thead>\n",
       "    <tr style=\"text-align: right;\">\n",
       "      <th></th>\n",
       "      <th>user_id</th>\n",
       "      <th>month</th>\n",
       "      <th>subscription_type</th>\n",
       "      <th>rides</th>\n",
       "      <th>union_distance</th>\n",
       "      <th>union_duration</th>\n",
       "    </tr>\n",
       "  </thead>\n",
       "  <tbody>\n",
       "    <tr>\n",
       "      <th>0</th>\n",
       "      <td>700</td>\n",
       "      <td>1</td>\n",
       "      <td>free</td>\n",
       "      <td>1</td>\n",
       "      <td>2515.690719</td>\n",
       "      <td>15.0</td>\n",
       "    </tr>\n",
       "    <tr>\n",
       "      <th>1</th>\n",
       "      <td>700</td>\n",
       "      <td>2</td>\n",
       "      <td>free</td>\n",
       "      <td>5</td>\n",
       "      <td>13446.659764</td>\n",
       "      <td>89.0</td>\n",
       "    </tr>\n",
       "    <tr>\n",
       "      <th>2</th>\n",
       "      <td>700</td>\n",
       "      <td>3</td>\n",
       "      <td>free</td>\n",
       "      <td>1</td>\n",
       "      <td>3798.334905</td>\n",
       "      <td>19.0</td>\n",
       "    </tr>\n",
       "    <tr>\n",
       "      <th>3</th>\n",
       "      <td>700</td>\n",
       "      <td>4</td>\n",
       "      <td>free</td>\n",
       "      <td>1</td>\n",
       "      <td>2984.551206</td>\n",
       "      <td>16.0</td>\n",
       "    </tr>\n",
       "    <tr>\n",
       "      <th>4</th>\n",
       "      <td>700</td>\n",
       "      <td>6</td>\n",
       "      <td>free</td>\n",
       "      <td>2</td>\n",
       "      <td>5927.650988</td>\n",
       "      <td>29.0</td>\n",
       "    </tr>\n",
       "  </tbody>\n",
       "</table>\n",
       "</div>"
      ],
      "text/plain": [
       "   user_id  month subscription_type  rides  union_distance  union_duration\n",
       "0      700      1              free      1     2515.690719            15.0\n",
       "1      700      2              free      5    13446.659764            89.0\n",
       "2      700      3              free      1     3798.334905            19.0\n",
       "3      700      4              free      1     2984.551206            16.0\n",
       "4      700      6              free      2     5927.650988            29.0"
      ]
     },
     "execution_count": 44,
     "metadata": {},
     "output_type": "execute_result"
    }
   ],
   "source": [
    "#Создадим сводную таблицу, по пользователям без подписки\n",
    "# в которой посчитаем количество поездок пользователей по месяцам,\n",
    "#суммарное расстояние и суммарную длительность поездок\n",
    "\n",
    "data_subs_free_pivot = data_subs_free.pivot_table(\n",
    "   index = ['user_id', 'month','subscription_type'],\n",
    "    values = ['distance','duration'],\n",
    "    aggfunc = {'distance': ['count', 'sum'], 'duration':'sum'}\n",
    ").reset_index()\n",
    "data_subs_free_pivot.columns = ['user_id','month','subscription_type','rides', 'union_distance', 'union_duration']\n",
    "data_subs_free_pivot.head()"
   ]
  },
  {
   "cell_type": "code",
   "execution_count": 45,
   "id": "67874988-4e28-416f-a6fb-cfc77849ada6",
   "metadata": {},
   "outputs": [
    {
     "data": {
      "text/html": [
       "<div>\n",
       "<style scoped>\n",
       "    .dataframe tbody tr th:only-of-type {\n",
       "        vertical-align: middle;\n",
       "    }\n",
       "\n",
       "    .dataframe tbody tr th {\n",
       "        vertical-align: top;\n",
       "    }\n",
       "\n",
       "    .dataframe thead th {\n",
       "        text-align: right;\n",
       "    }\n",
       "</style>\n",
       "<table border=\"1\" class=\"dataframe\">\n",
       "  <thead>\n",
       "    <tr style=\"text-align: right;\">\n",
       "      <th></th>\n",
       "      <th>user_id</th>\n",
       "      <th>month</th>\n",
       "      <th>subscription_type</th>\n",
       "      <th>rides</th>\n",
       "      <th>union_distance</th>\n",
       "      <th>union_duration</th>\n",
       "    </tr>\n",
       "  </thead>\n",
       "  <tbody>\n",
       "    <tr>\n",
       "      <th>0</th>\n",
       "      <td>700</td>\n",
       "      <td>1</td>\n",
       "      <td>free</td>\n",
       "      <td>1</td>\n",
       "      <td>2515.69</td>\n",
       "      <td>15.0</td>\n",
       "    </tr>\n",
       "    <tr>\n",
       "      <th>1</th>\n",
       "      <td>700</td>\n",
       "      <td>2</td>\n",
       "      <td>free</td>\n",
       "      <td>5</td>\n",
       "      <td>13446.66</td>\n",
       "      <td>89.0</td>\n",
       "    </tr>\n",
       "    <tr>\n",
       "      <th>2</th>\n",
       "      <td>700</td>\n",
       "      <td>3</td>\n",
       "      <td>free</td>\n",
       "      <td>1</td>\n",
       "      <td>3798.33</td>\n",
       "      <td>19.0</td>\n",
       "    </tr>\n",
       "    <tr>\n",
       "      <th>3</th>\n",
       "      <td>700</td>\n",
       "      <td>4</td>\n",
       "      <td>free</td>\n",
       "      <td>1</td>\n",
       "      <td>2984.55</td>\n",
       "      <td>16.0</td>\n",
       "    </tr>\n",
       "    <tr>\n",
       "      <th>4</th>\n",
       "      <td>700</td>\n",
       "      <td>6</td>\n",
       "      <td>free</td>\n",
       "      <td>2</td>\n",
       "      <td>5927.65</td>\n",
       "      <td>29.0</td>\n",
       "    </tr>\n",
       "  </tbody>\n",
       "</table>\n",
       "</div>"
      ],
      "text/plain": [
       "   user_id  month subscription_type  rides  union_distance  union_duration\n",
       "0      700      1              free      1         2515.69            15.0\n",
       "1      700      2              free      5        13446.66            89.0\n",
       "2      700      3              free      1         3798.33            19.0\n",
       "3      700      4              free      1         2984.55            16.0\n",
       "4      700      6              free      2         5927.65            29.0"
      ]
     },
     "execution_count": 45,
     "metadata": {},
     "output_type": "execute_result"
    }
   ],
   "source": [
    "# Округлим столбец 'union_distance' до сотых\n",
    "\n",
    "data_subs_free_pivot['union_distance'] = round(data_subs_free_pivot['union_distance'], 2)\n",
    "data_subs_free_pivot.head()"
   ]
  },
  {
   "cell_type": "markdown",
   "id": "9125368f-3ee9-4a29-a0fa-13d263152071",
   "metadata": {},
   "source": [
    "Добавим столбец с помесячной выручкой. Для этого создадим функцию revenue, которая пройдет по всем строкам наших сводных таблиц, проверит тип подписки и посчитает выручку по нужной формуле"
   ]
  },
  {
   "cell_type": "code",
   "execution_count": 46,
   "id": "005939bd-1f72-4016-9e9d-0880ee956152",
   "metadata": {
    "tags": []
   },
   "outputs": [],
   "source": [
    "def revenue(df):\n",
    "    for user in range(len(df)):\n",
    "    \n",
    "        if df['subscription_type'] == 'free': \n",
    "            revenue = (\n",
    "                df['rides']*subscriptions.loc[0,'start_ride_price']) + (\n",
    "                df['union_duration']*subscriptions.loc[0, 'minute_price']) + subscriptions.loc[0, 'subscription_fee']\n",
    "        elif df['subscription_type'] == 'ultra':\n",
    "            revenue = (\n",
    "                df['rides']*subscriptions.loc[1,'start_ride_price']) + (\n",
    "                df['union_duration']*subscriptions.loc[1, 'minute_price']) + subscriptions.loc[1, 'subscription_fee']\n",
    "        else:\n",
    "            revenue = 'ошибка!'\n",
    "        \n",
    "        return revenue\n",
    "\n",
    "    "
   ]
  },
  {
   "cell_type": "code",
   "execution_count": 47,
   "id": "ebdcf7bc-c368-4083-8bfc-6f0f0e6017cc",
   "metadata": {},
   "outputs": [
    {
     "data": {
      "text/html": [
       "<div>\n",
       "<style scoped>\n",
       "    .dataframe tbody tr th:only-of-type {\n",
       "        vertical-align: middle;\n",
       "    }\n",
       "\n",
       "    .dataframe tbody tr th {\n",
       "        vertical-align: top;\n",
       "    }\n",
       "\n",
       "    .dataframe thead th {\n",
       "        text-align: right;\n",
       "    }\n",
       "</style>\n",
       "<table border=\"1\" class=\"dataframe\">\n",
       "  <thead>\n",
       "    <tr style=\"text-align: right;\">\n",
       "      <th></th>\n",
       "      <th>user_id</th>\n",
       "      <th>month</th>\n",
       "      <th>subscription_type</th>\n",
       "      <th>rides</th>\n",
       "      <th>union_distance</th>\n",
       "      <th>union_duration</th>\n",
       "      <th>revenue</th>\n",
       "    </tr>\n",
       "  </thead>\n",
       "  <tbody>\n",
       "    <tr>\n",
       "      <th>0</th>\n",
       "      <td>1</td>\n",
       "      <td>1</td>\n",
       "      <td>ultra</td>\n",
       "      <td>2</td>\n",
       "      <td>7027.51</td>\n",
       "      <td>42.0</td>\n",
       "      <td>451.0</td>\n",
       "    </tr>\n",
       "    <tr>\n",
       "      <th>1</th>\n",
       "      <td>1</td>\n",
       "      <td>4</td>\n",
       "      <td>ultra</td>\n",
       "      <td>1</td>\n",
       "      <td>754.16</td>\n",
       "      <td>7.0</td>\n",
       "      <td>241.0</td>\n",
       "    </tr>\n",
       "    <tr>\n",
       "      <th>2</th>\n",
       "      <td>1</td>\n",
       "      <td>8</td>\n",
       "      <td>ultra</td>\n",
       "      <td>2</td>\n",
       "      <td>6723.47</td>\n",
       "      <td>46.0</td>\n",
       "      <td>475.0</td>\n",
       "    </tr>\n",
       "    <tr>\n",
       "      <th>3</th>\n",
       "      <td>1</td>\n",
       "      <td>10</td>\n",
       "      <td>ultra</td>\n",
       "      <td>2</td>\n",
       "      <td>5809.91</td>\n",
       "      <td>32.0</td>\n",
       "      <td>391.0</td>\n",
       "    </tr>\n",
       "    <tr>\n",
       "      <th>4</th>\n",
       "      <td>1</td>\n",
       "      <td>11</td>\n",
       "      <td>ultra</td>\n",
       "      <td>3</td>\n",
       "      <td>7003.50</td>\n",
       "      <td>56.0</td>\n",
       "      <td>535.0</td>\n",
       "    </tr>\n",
       "  </tbody>\n",
       "</table>\n",
       "</div>"
      ],
      "text/plain": [
       "   user_id  month subscription_type  rides  union_distance  union_duration  \\\n",
       "0        1      1             ultra      2         7027.51            42.0   \n",
       "1        1      4             ultra      1          754.16             7.0   \n",
       "2        1      8             ultra      2         6723.47            46.0   \n",
       "3        1     10             ultra      2         5809.91            32.0   \n",
       "4        1     11             ultra      3         7003.50            56.0   \n",
       "\n",
       "   revenue  \n",
       "0    451.0  \n",
       "1    241.0  \n",
       "2    475.0  \n",
       "3    391.0  \n",
       "4    535.0  "
      ]
     },
     "execution_count": 47,
     "metadata": {},
     "output_type": "execute_result"
    }
   ],
   "source": [
    "data_subs_ultra_pivot['revenue'] = data_subs_ultra_pivot.apply(revenue, axis = 1)\n",
    "data_subs_ultra_pivot.head()"
   ]
  },
  {
   "cell_type": "code",
   "execution_count": 48,
   "id": "5893eaa0-a953-4e29-80c9-313983ce3186",
   "metadata": {},
   "outputs": [
    {
     "data": {
      "text/html": [
       "<div>\n",
       "<style scoped>\n",
       "    .dataframe tbody tr th:only-of-type {\n",
       "        vertical-align: middle;\n",
       "    }\n",
       "\n",
       "    .dataframe tbody tr th {\n",
       "        vertical-align: top;\n",
       "    }\n",
       "\n",
       "    .dataframe thead th {\n",
       "        text-align: right;\n",
       "    }\n",
       "</style>\n",
       "<table border=\"1\" class=\"dataframe\">\n",
       "  <thead>\n",
       "    <tr style=\"text-align: right;\">\n",
       "      <th></th>\n",
       "      <th>user_id</th>\n",
       "      <th>month</th>\n",
       "      <th>subscription_type</th>\n",
       "      <th>rides</th>\n",
       "      <th>union_distance</th>\n",
       "      <th>union_duration</th>\n",
       "      <th>revenue</th>\n",
       "    </tr>\n",
       "  </thead>\n",
       "  <tbody>\n",
       "    <tr>\n",
       "      <th>0</th>\n",
       "      <td>700</td>\n",
       "      <td>1</td>\n",
       "      <td>free</td>\n",
       "      <td>1</td>\n",
       "      <td>2515.69</td>\n",
       "      <td>15.0</td>\n",
       "      <td>170.0</td>\n",
       "    </tr>\n",
       "    <tr>\n",
       "      <th>1</th>\n",
       "      <td>700</td>\n",
       "      <td>2</td>\n",
       "      <td>free</td>\n",
       "      <td>5</td>\n",
       "      <td>13446.66</td>\n",
       "      <td>89.0</td>\n",
       "      <td>962.0</td>\n",
       "    </tr>\n",
       "    <tr>\n",
       "      <th>2</th>\n",
       "      <td>700</td>\n",
       "      <td>3</td>\n",
       "      <td>free</td>\n",
       "      <td>1</td>\n",
       "      <td>3798.33</td>\n",
       "      <td>19.0</td>\n",
       "      <td>202.0</td>\n",
       "    </tr>\n",
       "    <tr>\n",
       "      <th>3</th>\n",
       "      <td>700</td>\n",
       "      <td>4</td>\n",
       "      <td>free</td>\n",
       "      <td>1</td>\n",
       "      <td>2984.55</td>\n",
       "      <td>16.0</td>\n",
       "      <td>178.0</td>\n",
       "    </tr>\n",
       "    <tr>\n",
       "      <th>4</th>\n",
       "      <td>700</td>\n",
       "      <td>6</td>\n",
       "      <td>free</td>\n",
       "      <td>2</td>\n",
       "      <td>5927.65</td>\n",
       "      <td>29.0</td>\n",
       "      <td>332.0</td>\n",
       "    </tr>\n",
       "  </tbody>\n",
       "</table>\n",
       "</div>"
      ],
      "text/plain": [
       "   user_id  month subscription_type  rides  union_distance  union_duration  \\\n",
       "0      700      1              free      1         2515.69            15.0   \n",
       "1      700      2              free      5        13446.66            89.0   \n",
       "2      700      3              free      1         3798.33            19.0   \n",
       "3      700      4              free      1         2984.55            16.0   \n",
       "4      700      6              free      2         5927.65            29.0   \n",
       "\n",
       "   revenue  \n",
       "0    170.0  \n",
       "1    962.0  \n",
       "2    202.0  \n",
       "3    178.0  \n",
       "4    332.0  "
      ]
     },
     "execution_count": 48,
     "metadata": {},
     "output_type": "execute_result"
    }
   ],
   "source": [
    "data_subs_free_pivot['revenue'] = data_subs_free_pivot.apply(revenue, axis = 1)\n",
    "data_subs_free_pivot.head()"
   ]
  },
  {
   "cell_type": "markdown",
   "id": "824fb459-afd8-47bc-b039-be2c211da28a",
   "metadata": {
    "tags": []
   },
   "source": [
    "## 6. Проверка гипотез\n",
    "\n",
    "### 6.1. Пользователи с подпиской тратят больше времени на поездки\n",
    "\n",
    "**Для проверки данной гипотезы сформулируем нулевую и альтернативную гипотезы:**\n",
    "\n",
    "H0: Длительности поездок пользователей с подпиской и без подписки равны\n",
    "\n",
    "H1: Длительность поездок пользователей с подпиской больше, чем пользователей без подписки\n",
    "\n",
    "Так как две наши выборки не зависят друг от друга и длительность поездок близка к нормальному распределению, воспользуемся t-тестом для двух выборок, чтобы проверить нашу гипотезу"
   ]
  },
  {
   "cell_type": "code",
   "execution_count": 49,
   "id": "987eab99-91bf-4f8f-b85d-350242356376",
   "metadata": {
    "tags": []
   },
   "outputs": [
    {
     "name": "stdout",
     "output_type": "stream",
     "text": [
      "p-value: 1.1814679253701353e-36\n",
      "Отвергаем нулевую гипотезу\n"
     ]
    }
   ],
   "source": [
    "# Для проверки нашей гипотезы воспользуемся методом T-тест для двух выборок, статистическую значимость возьмем за 0,05\n",
    "# Так как наши выборки не равны по размеру, equal_var = False\n",
    "# Так как нас интересует, будет ли длительность поездок пользователей с подпиской больше, чем пользователей без подписки, alternative = 'greater'\n",
    "\n",
    "alpha = 0.05\n",
    "result = st.ttest_ind(data_subs_ultra['duration'], data_subs_free['duration'], equal_var = False, alternative = 'greater')\n",
    "print('p-value:', result.pvalue)\n",
    "\n",
    "if result.pvalue < alpha:\n",
    "    print('Отвергаем нулевую гипотезу')\n",
    "else:\n",
    "    print('Нулевую гипотезу отвергнуть не получилось')"
   ]
  },
  {
   "cell_type": "markdown",
   "id": "827477e8-050f-42fe-9e4a-4292b15f8f55",
   "metadata": {},
   "source": [
    "Т-тест показал низкий уровень значимости. Можно отвергнуть нулевую гипотезу в пользу альтернативной - длительность поездок пользователей с подпиской больше, чем пользователей без подписки."
   ]
  },
  {
   "cell_type": "markdown",
   "id": "30ace510-889d-4a60-b1c2-fd30ca6b127d",
   "metadata": {},
   "source": [
    "### 6.2. Проверка дальности поездок\n",
    "\n",
    "**Для проверки данной гипотезы сформулируем нулевую и альтернативную гипотезы:**\n",
    "\n",
    "H0: Дальность поездок пользователей с подпиской равна 3130 метров\n",
    "\n",
    "H1: Дальность поездок пользователей с подпиской больше 3130 метров\n",
    "\n",
    "Для проверки этой гипотезы воспользуемся t-тестом, уровень статистической значимости зададим 0,05"
   ]
  },
  {
   "cell_type": "code",
   "execution_count": 50,
   "id": "c0a81fff-b47d-4c2a-ac07-dece9e68a2ec",
   "metadata": {},
   "outputs": [
    {
     "name": "stdout",
     "output_type": "stream",
     "text": [
      "p-value: 0.9195368847849785\n",
      "Нулевую гипотезу отвергнуть не получилось\n"
     ]
    }
   ],
   "source": [
    "alpha = 0.05\n",
    "result = st.ttest_1samp(\n",
    "    a=data_subs_ultra['distance'],\n",
    "    popmean = 3130, \n",
    "    alternative = 'greater')\n",
    "\n",
    "print('p-value:', result.pvalue)\n",
    "\n",
    "if result.pvalue < alpha:\n",
    "    print('Отвергаем нулевую гипотезу')\n",
    "else:\n",
    "    print('Нулевую гипотезу отвергнуть не получилось')\n"
   ]
  },
  {
   "cell_type": "markdown",
   "id": "a7932642-c0f4-4ed4-9d06-ea5a89e3fe3a",
   "metadata": {},
   "source": [
    "Т-тест показал, достаточно высокий уровень значимости, значит мы не можем отвергуть нулевую гипотезу: дальность поездок пользователей с подпиской примерно равна 3130 м."
   ]
  },
  {
   "cell_type": "markdown",
   "id": "39a3cf02-fb33-4b26-a550-f2bbf04ff2e7",
   "metadata": {},
   "source": [
    "### 6.3. Проверяем, будет ли выручка от пользователей с подпиской больше, чем от пользователей без подписки\n",
    "\n",
    "**Сформулируем нулевую и альтернативную гипотезы:**\n",
    "\n",
    "H0: Выручки от пользователей с подпиской и без подписки равны\n",
    "\n",
    "H1: Выручка от пользователей с подпиской больше, чем от пользователей без подписки\n",
    "\n",
    "Для проверки этой гипотезы воспользуемся t-тестом, уровень статистической значимости зададим 0,05\n"
   ]
  },
  {
   "cell_type": "code",
   "execution_count": 51,
   "id": "eae65322-f33a-4f53-a74b-8495d4040384",
   "metadata": {},
   "outputs": [
    {
     "name": "stdout",
     "output_type": "stream",
     "text": [
      "p-value: 8.874140893976874e-40\n",
      "Отвергаем нулевую гипотезу\n"
     ]
    }
   ],
   "source": [
    "alpha = 0.05\n",
    "result = st.ttest_ind(data_subs_ultra_pivot['revenue'], data_subs_free_pivot['revenue'], equal_var = False, alternative = 'greater')\n",
    "print('p-value:', result.pvalue)\n",
    "\n",
    "if result.pvalue < alpha:\n",
    "    print('Отвергаем нулевую гипотезу')\n",
    "else:\n",
    "    print('Нулевую гипотезу отвергнуть не получилось')"
   ]
  },
  {
   "cell_type": "markdown",
   "id": "f4656c91-5095-43b2-a8cc-17c70956475a",
   "metadata": {},
   "source": [
    "Т-тест показал, низкий уровень значимости, значит у нас есть основания отвергнуть нулевую гипотезу в пользу альтернативной. Средняя выручка от пользователей с подпиской больше, чем от пользователей без подписки"
   ]
  },
  {
   "cell_type": "markdown",
   "id": "369d2882-cb5b-4f99-86b5-d79cb368ffe0",
   "metadata": {},
   "source": [
    "### 6.4. Проверить, изменилось ли количество обращений в техподдержку после обновления работы серверов\n",
    "\n",
    "H0: Количество обращений в техподдержку после обновления серверов равно количеству обращений до обновления (не изменилось)\n",
    "\n",
    "H1: Количество обращений в техподдержку после обновления серверов значимо снизилось.\n",
    "\n",
    "Для ответа на данный вопрос нужно будет воспользоваться t-teстом для двух зависимых (парных) выборок: scipy.stats.ttest_rel(). Так как наша генеральная совокупность осталась прежней, нам нужно проверить среднее количество обращений до обновления и после. И так как нас интересует, снизилось ли среднее количество обращений после обновления - это левый 'хвост', то есть alternative = 'less'. Уровень статистической значимости лучше выбрать 0,01 -  раз нас интересует значительное снижение."
   ]
  },
  {
   "cell_type": "markdown",
   "id": "73394d86-1080-4d3a-9548-64d8ba87d12e",
   "metadata": {},
   "source": [
    "## 7. Распределения\n",
    "\n",
    "### 7.1. Выяснить, какое минимальное количество промокодов нужно разослать, чтобы вероятность не выполнить план была не более 5%"
   ]
  },
  {
   "cell_type": "markdown",
   "id": "a375d605-a3a1-49d3-bbc5-f6f293e17e2f",
   "metadata": {},
   "source": [
    " Отделу маркетинга GoFast поставили задачу: нужно провести акцию с раздачей промокодов на один бесплатный месяц подписки, в рамках которой как минимум \n",
    "100 существующих клиентов должны продлить эту подписку. То есть по завершении периода действия подписки пользователь может либо отказаться от неё, либо продлить, совершив соответствующий платёж.\n",
    "\n",
    "Эта акция уже проводилась ранее и по итогу выяснилось, что после бесплатного пробного периода подписку продлевают 10% пользователей. Выясните, какое минимальное количество промокодов нужно разослать, чтобы вероятность не выполнить план была примерно 5%.\n",
    "\n",
    "Подберите параметры распределения, описывающего эту ситуацию, постройте график распределения и сформулируйте ответ на вопрос о количестве промокодов."
   ]
  },
  {
   "cell_type": "markdown",
   "id": "85c25ec0-0915-4426-8a4a-6c32be299f4f",
   "metadata": {},
   "source": [
    "Данную задачу можно представить биноминальным распределением, где p = 0.1. Пользователь либо продлевает подписку, либо нет. Количество промокодов (n) не известно - будем подбирать его по графику биноминального распределения.\n"
   ]
  },
  {
   "cell_type": "code",
   "execution_count": 52,
   "id": "01dd518a-ccac-49e3-bdc1-0e2edaade214",
   "metadata": {
    "tags": []
   },
   "outputs": [
    {
     "data": {
      "image/png": "[encoded data removed]",
      "text/plain": [
       "<Figure size 432x288 with 1 Axes>"
      ]
     },
     "metadata": {
      "needs_background": "light"
     },
     "output_type": "display_data"
    }
   ],
   "source": [
    "from math import sqrt\n",
    "from scipy.stats import binom, norm\n",
    "\n",
    "p = 0.1\n",
    "n = 500\n",
    "\n",
    "distr = []\n",
    "\n",
    "for k in range(0, n + 1):\n",
    "    current_value = binom.pmf(k, n, p)\n",
    "    distr.append(current_value)\n",
    "    \n",
    "plt.bar(range(0, n + 1), distr);"
   ]
  },
  {
   "cell_type": "markdown",
   "id": "dd6aee4a-3076-4b7b-a41a-0e7c81467734",
   "metadata": {},
   "source": [
    "При n=500 вероятность получить 100 подписок ничтожно мала, увеличим n до 1000"
   ]
  },
  {
   "cell_type": "code",
   "execution_count": 53,
   "id": "faf88b80-f255-444c-98e9-1070bf475726",
   "metadata": {},
   "outputs": [
    {
     "name": "stderr",
     "output_type": "stream",
     "text": [
      "c:\\users\\полицинский роман\\appdata\\local\\programs\\python\\python39\\lib\\site-packages\\scipy\\stats\\_discrete_distns.py:78: RuntimeWarning: divide by zero encountered in _binom_pdf\n",
      "  return _boost._binom_pdf(x, n, p)\n"
     ]
    },
    {
     "data": {
      "image/png": "[encoded data removed]",
      "text/plain": [
       "<Figure size 432x288 with 1 Axes>"
      ]
     },
     "metadata": {
      "needs_background": "light"
     },
     "output_type": "display_data"
    }
   ],
   "source": [
    "p = 0.1\n",
    "n = 1000\n",
    "\n",
    "distr = []\n",
    "\n",
    "for k in range(0, n + 1):\n",
    "    current_value = binom.pmf(k, n, p)\n",
    "    distr.append(current_value)\n",
    "    \n",
    "plt.bar(range(0, n + 1), distr);\n"
   ]
  },
  {
   "cell_type": "markdown",
   "id": "b7e0175a-57b7-472a-9b55-22ff7e89cfba",
   "metadata": {},
   "source": [
    "Судя по графику, при n=1000 вероятность получить меньше 100 подписок приближается к 5%.\n",
    "\n",
    "Проверим наше предположение с помощью метода cdf(). \n",
    "\n",
    "Для этого сначала проверим, можем ли мы аппроксимировать наше биноминальное распределение нормальным, чтобы применить метод cdf().\n",
    "За математическое ожидание и стандартное отклонение нормального распределения возмем мат. ожидание и ст. отклонение биноминального распределения.\n",
    "Посмотрим, лежит ли промежуток математическое ожидание плюс/минус три стандартных отклонения в промежутке [0, n].\n",
    "\n"
   ]
  },
  {
   "cell_type": "code",
   "execution_count": 54,
   "id": "0883fcdc-1e12-40e3-b51a-0530615ee06e",
   "metadata": {},
   "outputs": [
    {
     "name": "stdout",
     "output_type": "stream",
     "text": [
      "Условие выполняется, аппроксимация возможна\n"
     ]
    }
   ],
   "source": [
    "sigma = sqrt(n * p * (1 - p))\n",
    "mu = n*p\n",
    "left =  mu - 3*sigma\n",
    "right = mu + 3*sigma\n",
    "\n",
    "if left >= 0 and right <= n:\n",
    "    print('Условие выполняется, аппроксимация возможна')\n",
    "else:\n",
    "    print('Условие не выполняется, аппроксимацию делать нельзя')"
   ]
  },
  {
   "cell_type": "markdown",
   "id": "44711216-f22b-40eb-bf35-d6d13194e832",
   "metadata": {},
   "source": [
    "Аппроксимация возможна, поэтому воспользуемся методом cdf() для более точного расчета вероятности не выполнить план на 5%"
   ]
  },
  {
   "cell_type": "code",
   "execution_count": 55,
   "id": "bfa4e4bc-3f56-4869-bb49-372784127439",
   "metadata": {},
   "outputs": [
    {
     "name": "stdout",
     "output_type": "stream",
     "text": [
      "При количестве промокодов равном 1000 вероятность не выполнить план равна примерно 0.5\n"
     ]
    }
   ],
   "source": [
    "distr = st.norm(mu, sigma)\n",
    "result = distr.cdf(100)\n",
    "print(f'При количестве промокодов равном {n} вероятность не выполнить план равна примерно {result}')"
   ]
  },
  {
   "cell_type": "markdown",
   "id": "e9e7d4fb-29a5-4208-bd5b-cddbbc8ba48b",
   "metadata": {},
   "source": [
    "При вероятности того, что подписку продлевают 10% пользователей, отделу маркетинга необходимо разослать как минимум 1000 листовок, для того, чтобы вероятность не выполнить план получить 100 подписок была примерно 5%"
   ]
  },
  {
   "cell_type": "markdown",
   "id": "4d9747a8-3d6f-46dd-a8f6-fcb121d28190",
   "metadata": {},
   "source": [
    "### 7.2. Оценить вероятность того, что уведомления откроют не более 399,5 тыс пользователей\n",
    "\n",
    "Отдел маркетинга рассылает клиентам push-уведомления в мобильном приложении. Клиенты могут открыть его или не открывать. Известно, что уведомления открывают около 40% получивших клиентов. Отдел планирует разослать 1 млн уведомлений. С помощью аппроксимации постройте примерный график распределения и оцените вероятность того, что уведомление откроют не более 399,5 тыс. пользователей."
   ]
  },
  {
   "cell_type": "markdown",
   "id": "f85715c5-5ef8-4f3b-81bf-c8cee6c2b5cb",
   "metadata": {},
   "source": [
    "Эту ситуацию так же можно описать биноминальным распределением. \n",
    "Проверим, можно ли аппроксимировать это биноминальное распределение нормальным.\n"
   ]
  },
  {
   "cell_type": "code",
   "execution_count": 56,
   "id": "408eb542-29fe-4f50-9b28-88cf0835cee2",
   "metadata": {},
   "outputs": [
    {
     "name": "stdout",
     "output_type": "stream",
     "text": [
      "Условие выполняется\n"
     ]
    }
   ],
   "source": [
    "# задаём параметры биномиального распределения\n",
    "n = 1000000\n",
    "p = 0.4\n",
    "\n",
    "# зададим мат.ожидание и ст.отклонение нормального распределения равными\n",
    "# мат.ожиданию и ст.отклонению биномиального распределения\n",
    "mu = n * p\n",
    "sigma = sqrt(n * p * (1 - p))\n",
    "\n",
    "# выводим, выполняется ли наше условие аппроксимации:\n",
    "# лежит ли mu ± 3 sigma в промежутке от 0 до n:\n",
    "if (mu - (3 * sigma) >= 0) and ((mu + (3 * sigma) <= n)):\n",
    "    print('Условие выполняется')\n",
    "else:\n",
    "    print('Условие не выполняется')"
   ]
  },
  {
   "cell_type": "markdown",
   "id": "5067dff9-4608-4076-b690-60bb87bf9905",
   "metadata": {},
   "source": [
    "Аппроксимируем наше биноминальное распределение нормальным и построим его график"
   ]
  },
  {
   "cell_type": "code",
   "execution_count": 57,
   "id": "45b645bd-65d4-4b11-9ca0-7a4c65688896",
   "metadata": {},
   "outputs": [
    {
     "data": {
      "image/png": "[encoded data removed]",
      "text/plain": [
       "<Figure size 432x288 with 1 Axes>"
      ]
     },
     "metadata": {
      "needs_background": "light"
     },
     "output_type": "display_data"
    }
   ],
   "source": [
    "# зададим функцию, которая выдаёт <num> чисел,\n",
    "# равномерно распределённых от <start> до <stop>\n",
    "# для визуализации нормального распределения\n",
    "def linspace(start, stop, num):\n",
    "    step = (stop - start) / (num - 1)\n",
    "    result = []\n",
    "    for i in range(num):\n",
    "        result.append(start + step * i)\n",
    "    return result\n",
    "\n",
    "# границы промежутка, в котором будем строить аппроксимацию -\n",
    "# от n*p минус 4 ст.отклонения бином.распределения\n",
    "# до n*p плюс 4 ст.отклонения бином.распределения\n",
    "left = int(n * p - 4 * sqrt(n * p * (1 - p)))\n",
    "right = int(n * p + 4 * sqrt(n * p * (1 - p)))\n",
    " \n",
    "# рисуем график нормального распределения:\n",
    "# получим список из 100 чисел от left до right\n",
    "x = linspace(left, right, 100)\n",
    "plt.plot(x, norm.pdf(x, mu, sigma), 'r-', lw=3, alpha=0.3)\n",
    " \n",
    "# зададим подписи по оси x в пределах ± 3 ст.отклонений от мат.ожидания\n",
    "x_ticks = list(range(int(mu - 3 * sigma), int(mu + 3 * sigma), 1))\n",
    "\n",
    "plt.show()\n"
   ]
  },
  {
   "cell_type": "code",
   "execution_count": 58,
   "id": "6f0c39dc-e36c-4250-92ea-b72890092c20",
   "metadata": {},
   "outputs": [
    {
     "name": "stdout",
     "output_type": "stream",
     "text": [
      "Вероятность, что push-уведомление откроют не более 399 500 пользователей составляет 0.15\n"
     ]
    }
   ],
   "source": [
    "distr = st.norm(mu, sigma)\n",
    "result = round(distr.cdf(399500),2)\n",
    "print(f'Вероятность, что push-уведомление откроют не более 399 500 пользователей составляет {result}')"
   ]
  },
  {
   "cell_type": "markdown",
   "id": "dcec466d-1aa1-40e0-a7ae-a7d1343b6e2a",
   "metadata": {},
   "source": [
    "C помощью аппроксимации биноминального распределения нормальным мы подсчитали вероятность того, что  push-уведомление откроют не более 399 500 пользователей составляет 15%"
   ]
  },
  {
   "cell_type": "markdown",
   "id": "631a5f27-c2c8-40fb-927b-3be1b57f48e2",
   "metadata": {},
   "source": [
    "## Вывод"
   ]
  },
  {
   "cell_type": "markdown",
   "id": "e8571fe8-de61-410a-960e-aa900f5825ea",
   "metadata": {},
   "source": [
    "В ходе нашего исследования была проведена работа с предоставленными данными.\n",
    "\n",
    "1. Данные были проверены на наличие пропусков, дубликатов.\n",
    "Повторяющиеся строки были удалены.\n",
    "\n",
    "2. Был проведен исследовательский анализ данных.\n",
    "  - Мы выяснили, что в нашей выборке представлено восемь различных городов, данные между ними распределены примерно одинаково\n",
    "  - Число пользователей с подпиской в нашей выборке немного меньше, чем пользователей без подписки, то есть две наши страты численно не одинаковы\n",
    "  - Распределение пользователей по возрасту в нашей выборке близко к нормальному. Преобладают пользователи в возрасте от 18 до 33 лет\n",
    "  - В  нашей выборке преобладают поездки от 2 до 4,8 км\n",
    "  - Длительность поездок в основном от 10 до 25 минут.\n",
    "3. В ходе работы для дальнейшей проверки гипотез были созданы сводные таблицы по пользователям с подпиской и без подписки, посчитана месячная выручка по каждому пользователю, составлены графики дальности и длительности поездок по каждой группе пользователей.\n",
    "4. Основываясь на результатах проведенного исследования мы ответили на следующие вопросы:\n",
    "  - Длительность поездок пользователей с подпиской больше, чем пользователей без подписки.\n",
    "  - Пользователи с подпиской в среднем проезжают расстояние около 3130 метров.\n",
    "  - Пользователи с подпиской в среднем приносят больше выручки, чем пользователи без подписки.\n",
    "  \n",
    "Исходя из полученных данных можно сказать, что сервису выгодно работать над дальнейшим увеличением пользователей с подпиской.\n",
    "\n",
    "5. В ходе работы были составлены графики распределения и подсчитана вероятность заданных событий:\n",
    "    - При вероятности того, что подписку продлевают 10% пользователей, отделу маркетинга необходимо разослать как минимум 1000 листовок, для того, чтобы вероятность не выполнить план получить 100 подписок была примерно 5%\n",
    "    - Вероятность того, что push-уведомление откроют не более 399 500 пользователей составляет 15%\n",
    "  \n",
    "\n"
   ]
  }
 ],
 "metadata": {
  "ExecuteTimeLog": [
   {
    "duration": 1195,
    "start_time": "2023-12-06T17:59:44.642Z"
   },
   {
    "duration": 41,
    "start_time": "2023-12-06T17:59:45.839Z"
   },
   {
    "duration": 13,
    "start_time": "2023-12-06T17:59:45.881Z"
   },
   {
    "duration": 81,
    "start_time": "2023-12-06T17:59:45.896Z"
   },
   {
    "duration": 15,
    "start_time": "2023-12-06T17:59:45.979Z"
   },
   {
    "duration": 39,
    "start_time": "2023-12-06T17:59:45.996Z"
   },
   {
    "duration": 20,
    "start_time": "2023-12-06T17:59:46.037Z"
   },
   {
    "duration": 47,
    "start_time": "2023-12-06T17:59:46.059Z"
   },
   {
    "duration": 30,
    "start_time": "2023-12-06T17:59:46.108Z"
   },
   {
    "duration": 43,
    "start_time": "2023-12-06T17:59:46.142Z"
   },
   {
    "duration": 31,
    "start_time": "2023-12-06T17:59:46.187Z"
   },
   {
    "duration": 43,
    "start_time": "2023-12-06T17:59:46.220Z"
   },
   {
    "duration": 21,
    "start_time": "2023-12-06T17:59:46.265Z"
   },
   {
    "duration": 37,
    "start_time": "2023-12-06T17:59:46.288Z"
   },
   {
    "duration": 45,
    "start_time": "2023-12-06T17:59:46.327Z"
   },
   {
    "duration": 44,
    "start_time": "2023-12-06T17:59:46.374Z"
   },
   {
    "duration": 36,
    "start_time": "2023-12-06T17:59:46.420Z"
   },
   {
    "duration": 32,
    "start_time": "2023-12-06T17:59:46.458Z"
   },
   {
    "duration": 225,
    "start_time": "2023-12-06T17:59:46.492Z"
   },
   {
    "duration": 161,
    "start_time": "2023-12-06T17:59:46.719Z"
   },
   {
    "duration": 374,
    "start_time": "2023-12-06T17:59:46.881Z"
   },
   {
    "duration": 394,
    "start_time": "2023-12-06T17:59:47.258Z"
   },
   {
    "duration": 603,
    "start_time": "2023-12-06T17:59:47.654Z"
   },
   {
    "duration": 159,
    "start_time": "2023-12-06T17:59:48.259Z"
   },
   {
    "duration": 9,
    "start_time": "2023-12-06T17:59:48.420Z"
   },
   {
    "duration": 21,
    "start_time": "2023-12-06T17:59:48.431Z"
   },
   {
    "duration": 20,
    "start_time": "2023-12-06T17:59:48.454Z"
   },
   {
    "duration": 11,
    "start_time": "2023-12-06T17:59:48.480Z"
   },
   {
    "duration": 203,
    "start_time": "2023-12-06T17:59:48.493Z"
   },
   {
    "duration": 20,
    "start_time": "2023-12-06T17:59:48.698Z"
   },
   {
    "duration": 30,
    "start_time": "2023-12-06T17:59:48.720Z"
   },
   {
    "duration": 24,
    "start_time": "2023-12-06T17:59:48.751Z"
   },
   {
    "duration": 677,
    "start_time": "2023-12-06T17:59:48.777Z"
   },
   {
    "duration": 485,
    "start_time": "2023-12-06T17:59:49.456Z"
   },
   {
    "duration": 31,
    "start_time": "2023-12-06T17:59:49.943Z"
   },
   {
    "duration": 4,
    "start_time": "2023-12-06T17:59:49.976Z"
   },
   {
    "duration": 727,
    "start_time": "2023-12-06T17:59:49.982Z"
   },
   {
    "duration": 506,
    "start_time": "2023-12-06T17:59:50.712Z"
   },
   {
    "duration": 51,
    "start_time": "2023-12-06T17:59:51.221Z"
   },
   {
    "duration": 12,
    "start_time": "2023-12-06T17:59:51.275Z"
   },
   {
    "duration": 71,
    "start_time": "2023-12-06T17:59:51.289Z"
   },
   {
    "duration": 17,
    "start_time": "2023-12-06T17:59:51.363Z"
   },
   {
    "duration": 61,
    "start_time": "2023-12-06T17:59:51.381Z"
   },
   {
    "duration": 261,
    "start_time": "2023-12-06T17:59:51.444Z"
   },
   {
    "duration": 370,
    "start_time": "2023-12-06T17:59:51.707Z"
   },
   {
    "duration": 8,
    "start_time": "2023-12-06T17:59:52.079Z"
   },
   {
    "duration": 40,
    "start_time": "2023-12-06T17:59:52.089Z"
   },
   {
    "duration": 21,
    "start_time": "2023-12-06T17:59:52.131Z"
   },
   {
    "duration": 1048,
    "start_time": "2023-12-06T17:59:52.154Z"
   },
   {
    "duration": 1830,
    "start_time": "2023-12-06T17:59:53.204Z"
   },
   {
    "duration": 6,
    "start_time": "2023-12-06T17:59:55.036Z"
   },
   {
    "duration": 32,
    "start_time": "2023-12-06T17:59:55.044Z"
   },
   {
    "duration": 25,
    "start_time": "2023-12-06T17:59:55.078Z"
   },
   {
    "duration": 193,
    "start_time": "2023-12-06T17:59:55.105Z"
   },
   {
    "duration": 6,
    "start_time": "2023-12-06T17:59:55.300Z"
   },
   {
    "duration": 1125,
    "start_time": "2023-12-06T18:00:32.514Z"
   },
   {
    "duration": 43,
    "start_time": "2023-12-06T18:00:33.641Z"
   },
   {
    "duration": 35,
    "start_time": "2023-12-06T18:00:33.689Z"
   },
   {
    "duration": 65,
    "start_time": "2023-12-06T18:00:33.726Z"
   },
   {
    "duration": 15,
    "start_time": "2023-12-06T18:00:33.793Z"
   },
   {
    "duration": 41,
    "start_time": "2023-12-06T18:00:33.810Z"
   },
   {
    "duration": 15,
    "start_time": "2023-12-06T18:00:33.854Z"
   },
   {
    "duration": 36,
    "start_time": "2023-12-06T18:00:33.872Z"
   },
   {
    "duration": 13,
    "start_time": "2023-12-06T18:00:33.912Z"
   },
   {
    "duration": 9,
    "start_time": "2023-12-06T18:00:33.927Z"
   },
   {
    "duration": 34,
    "start_time": "2023-12-06T18:00:33.937Z"
   },
   {
    "duration": 21,
    "start_time": "2023-12-06T18:00:33.972Z"
   },
   {
    "duration": 39,
    "start_time": "2023-12-06T18:00:33.995Z"
   },
   {
    "duration": 17,
    "start_time": "2023-12-06T18:00:34.036Z"
   },
   {
    "duration": 13,
    "start_time": "2023-12-06T18:00:34.055Z"
   },
   {
    "duration": 48,
    "start_time": "2023-12-06T18:00:34.070Z"
   },
   {
    "duration": 22,
    "start_time": "2023-12-06T18:00:34.120Z"
   },
   {
    "duration": 6,
    "start_time": "2023-12-06T18:00:34.144Z"
   },
   {
    "duration": 251,
    "start_time": "2023-12-06T18:00:34.152Z"
   },
   {
    "duration": 181,
    "start_time": "2023-12-06T18:00:34.405Z"
   },
   {
    "duration": 331,
    "start_time": "2023-12-06T18:00:34.588Z"
   },
   {
    "duration": 455,
    "start_time": "2023-12-06T18:00:34.921Z"
   },
   {
    "duration": 529,
    "start_time": "2023-12-06T18:00:35.379Z"
   },
   {
    "duration": 164,
    "start_time": "2023-12-06T18:00:35.910Z"
   },
   {
    "duration": 9,
    "start_time": "2023-12-06T18:00:36.076Z"
   },
   {
    "duration": 5,
    "start_time": "2023-12-06T18:00:36.087Z"
   },
   {
    "duration": 26,
    "start_time": "2023-12-06T18:00:36.095Z"
   },
   {
    "duration": 22,
    "start_time": "2023-12-06T18:00:36.123Z"
   },
   {
    "duration": 146,
    "start_time": "2023-12-06T18:00:36.147Z"
   },
   {
    "duration": 20,
    "start_time": "2023-12-06T18:00:36.295Z"
   },
   {
    "duration": 24,
    "start_time": "2023-12-06T18:00:36.317Z"
   },
   {
    "duration": 27,
    "start_time": "2023-12-06T18:00:36.344Z"
   },
   {
    "duration": 558,
    "start_time": "2023-12-06T18:00:36.373Z"
   },
   {
    "duration": 449,
    "start_time": "2023-12-06T18:00:36.934Z"
   },
   {
    "duration": 17,
    "start_time": "2023-12-06T18:00:37.386Z"
   },
   {
    "duration": 5,
    "start_time": "2023-12-06T18:00:37.404Z"
   },
   {
    "duration": 768,
    "start_time": "2023-12-06T18:00:37.411Z"
   },
   {
    "duration": 467,
    "start_time": "2023-12-06T18:00:38.184Z"
   },
   {
    "duration": 42,
    "start_time": "2023-12-06T18:00:38.653Z"
   },
   {
    "duration": 14,
    "start_time": "2023-12-06T18:00:38.697Z"
   },
   {
    "duration": 58,
    "start_time": "2023-12-06T18:00:38.713Z"
   },
   {
    "duration": 15,
    "start_time": "2023-12-06T18:00:38.772Z"
   },
   {
    "duration": 5,
    "start_time": "2023-12-06T18:00:38.789Z"
   },
   {
    "duration": 265,
    "start_time": "2023-12-06T18:00:38.796Z"
   },
   {
    "duration": 299,
    "start_time": "2023-12-06T18:00:39.063Z"
   },
   {
    "duration": 7,
    "start_time": "2023-12-06T18:00:39.368Z"
   },
   {
    "duration": 11,
    "start_time": "2023-12-06T18:00:39.377Z"
   },
   {
    "duration": 7,
    "start_time": "2023-12-06T18:00:39.391Z"
   },
   {
    "duration": 1016,
    "start_time": "2023-12-06T18:00:39.400Z"
   },
   {
    "duration": 1725,
    "start_time": "2023-12-06T18:00:40.417Z"
   },
   {
    "duration": 5,
    "start_time": "2023-12-06T18:00:42.144Z"
   },
   {
    "duration": 22,
    "start_time": "2023-12-06T18:00:42.150Z"
   },
   {
    "duration": 5,
    "start_time": "2023-12-06T18:00:42.174Z"
   },
   {
    "duration": 171,
    "start_time": "2023-12-06T18:00:42.181Z"
   },
   {
    "duration": 16,
    "start_time": "2023-12-06T18:00:42.354Z"
   },
   {
    "duration": 1013,
    "start_time": "2023-12-07T07:55:55.561Z"
   },
   {
    "duration": 97,
    "start_time": "2023-12-07T07:55:56.576Z"
   },
   {
    "duration": 11,
    "start_time": "2023-12-07T07:55:56.674Z"
   },
   {
    "duration": 199,
    "start_time": "2023-12-07T07:55:56.686Z"
   },
   {
    "duration": 10,
    "start_time": "2023-12-07T07:55:56.887Z"
   },
   {
    "duration": 64,
    "start_time": "2023-12-07T07:55:56.898Z"
   },
   {
    "duration": 9,
    "start_time": "2023-12-07T07:55:56.963Z"
   },
   {
    "duration": 32,
    "start_time": "2023-12-07T07:55:56.974Z"
   },
   {
    "duration": 13,
    "start_time": "2023-12-07T07:55:57.007Z"
   },
   {
    "duration": 7,
    "start_time": "2023-12-07T07:55:57.023Z"
   },
   {
    "duration": 10,
    "start_time": "2023-12-07T07:55:57.031Z"
   },
   {
    "duration": 7,
    "start_time": "2023-12-07T07:55:57.043Z"
   },
   {
    "duration": 13,
    "start_time": "2023-12-07T07:55:57.051Z"
   },
   {
    "duration": 51,
    "start_time": "2023-12-07T07:55:57.066Z"
   },
   {
    "duration": 7,
    "start_time": "2023-12-07T07:55:57.119Z"
   },
   {
    "duration": 8,
    "start_time": "2023-12-07T07:55:57.127Z"
   },
   {
    "duration": 8,
    "start_time": "2023-12-07T07:55:57.137Z"
   },
   {
    "duration": 4,
    "start_time": "2023-12-07T07:55:57.147Z"
   },
   {
    "duration": 465,
    "start_time": "2023-12-07T07:55:57.152Z"
   },
   {
    "duration": 232,
    "start_time": "2023-12-07T07:55:57.619Z"
   },
   {
    "duration": 471,
    "start_time": "2023-12-07T07:55:57.852Z"
   },
   {
    "duration": 819,
    "start_time": "2023-12-07T07:55:58.325Z"
   },
   {
    "duration": 1088,
    "start_time": "2023-12-07T07:55:59.145Z"
   },
   {
    "duration": 301,
    "start_time": "2023-12-07T07:56:00.235Z"
   },
   {
    "duration": 6,
    "start_time": "2023-12-07T07:56:00.538Z"
   },
   {
    "duration": 34,
    "start_time": "2023-12-07T07:56:00.546Z"
   },
   {
    "duration": 57,
    "start_time": "2023-12-07T07:56:00.582Z"
   },
   {
    "duration": 40,
    "start_time": "2023-12-07T07:56:00.643Z"
   },
   {
    "duration": 236,
    "start_time": "2023-12-07T07:56:00.684Z"
   },
   {
    "duration": 17,
    "start_time": "2023-12-07T07:56:00.922Z"
   },
   {
    "duration": 120,
    "start_time": "2023-12-07T07:56:00.941Z"
   },
   {
    "duration": 24,
    "start_time": "2023-12-07T07:56:01.062Z"
   },
   {
    "duration": 899,
    "start_time": "2023-12-07T07:56:01.088Z"
   },
   {
    "duration": 1031,
    "start_time": "2023-12-07T07:56:01.989Z"
   },
   {
    "duration": 14,
    "start_time": "2023-12-07T07:56:03.021Z"
   },
   {
    "duration": 13,
    "start_time": "2023-12-07T07:56:03.037Z"
   },
   {
    "duration": 1198,
    "start_time": "2023-12-07T07:56:03.052Z"
   },
   {
    "duration": 878,
    "start_time": "2023-12-07T07:56:04.252Z"
   },
   {
    "duration": 29,
    "start_time": "2023-12-07T07:56:05.131Z"
   },
   {
    "duration": 10,
    "start_time": "2023-12-07T07:56:05.216Z"
   },
   {
    "duration": 89,
    "start_time": "2023-12-07T07:56:05.227Z"
   },
   {
    "duration": 10,
    "start_time": "2023-12-07T07:56:05.318Z"
   },
   {
    "duration": 11,
    "start_time": "2023-12-07T07:56:05.330Z"
   },
   {
    "duration": 409,
    "start_time": "2023-12-07T07:56:05.343Z"
   },
   {
    "duration": 569,
    "start_time": "2023-12-07T07:56:05.754Z"
   },
   {
    "duration": 5,
    "start_time": "2023-12-07T07:56:06.325Z"
   },
   {
    "duration": 83,
    "start_time": "2023-12-07T07:56:06.332Z"
   },
   {
    "duration": 6,
    "start_time": "2023-12-07T07:56:06.416Z"
   },
   {
    "duration": 1801,
    "start_time": "2023-12-07T07:56:06.424Z"
   },
   {
    "duration": 3097,
    "start_time": "2023-12-07T07:56:08.227Z"
   },
   {
    "duration": 4,
    "start_time": "2023-12-07T07:56:11.325Z"
   },
   {
    "duration": 19,
    "start_time": "2023-12-07T07:56:11.330Z"
   },
   {
    "duration": 64,
    "start_time": "2023-12-07T07:56:11.351Z"
   },
   {
    "duration": 298,
    "start_time": "2023-12-07T07:56:11.417Z"
   },
   {
    "duration": 5,
    "start_time": "2023-12-07T07:56:11.716Z"
   },
   {
    "duration": 1033,
    "start_time": "2023-12-07T08:01:13.949Z"
   },
   {
    "duration": 41,
    "start_time": "2023-12-07T08:01:14.984Z"
   },
   {
    "duration": 36,
    "start_time": "2023-12-07T08:01:15.026Z"
   },
   {
    "duration": 67,
    "start_time": "2023-12-07T08:01:15.064Z"
   },
   {
    "duration": 23,
    "start_time": "2023-12-07T08:01:15.133Z"
   },
   {
    "duration": 21,
    "start_time": "2023-12-07T08:01:15.158Z"
   },
   {
    "duration": 10,
    "start_time": "2023-12-07T08:01:15.180Z"
   },
   {
    "duration": 26,
    "start_time": "2023-12-07T08:01:15.192Z"
   },
   {
    "duration": 9,
    "start_time": "2023-12-07T08:01:15.220Z"
   },
   {
    "duration": 23,
    "start_time": "2023-12-07T08:01:15.232Z"
   },
   {
    "duration": 17,
    "start_time": "2023-12-07T08:01:15.256Z"
   },
   {
    "duration": 5,
    "start_time": "2023-12-07T08:01:15.275Z"
   },
   {
    "duration": 15,
    "start_time": "2023-12-07T08:01:15.283Z"
   },
   {
    "duration": 5,
    "start_time": "2023-12-07T08:01:15.300Z"
   },
   {
    "duration": 12,
    "start_time": "2023-12-07T08:01:15.307Z"
   },
   {
    "duration": 19,
    "start_time": "2023-12-07T08:01:15.321Z"
   },
   {
    "duration": 14,
    "start_time": "2023-12-07T08:01:15.341Z"
   },
   {
    "duration": 5,
    "start_time": "2023-12-07T08:01:15.356Z"
   },
   {
    "duration": 194,
    "start_time": "2023-12-07T08:01:15.362Z"
   },
   {
    "duration": 131,
    "start_time": "2023-12-07T08:01:15.557Z"
   },
   {
    "duration": 267,
    "start_time": "2023-12-07T08:01:15.689Z"
   },
   {
    "duration": 329,
    "start_time": "2023-12-07T08:01:15.958Z"
   },
   {
    "duration": 463,
    "start_time": "2023-12-07T08:01:16.288Z"
   },
   {
    "duration": 134,
    "start_time": "2023-12-07T08:01:16.752Z"
   },
   {
    "duration": 7,
    "start_time": "2023-12-07T08:01:16.887Z"
   },
   {
    "duration": 4,
    "start_time": "2023-12-07T08:01:16.896Z"
   },
   {
    "duration": 20,
    "start_time": "2023-12-07T08:01:16.901Z"
   },
   {
    "duration": 2,
    "start_time": "2023-12-07T08:01:16.924Z"
   },
   {
    "duration": 133,
    "start_time": "2023-12-07T08:01:16.928Z"
   },
   {
    "duration": 18,
    "start_time": "2023-12-07T08:01:17.063Z"
   },
   {
    "duration": 34,
    "start_time": "2023-12-07T08:01:17.082Z"
   },
   {
    "duration": 4,
    "start_time": "2023-12-07T08:01:17.117Z"
   },
   {
    "duration": 492,
    "start_time": "2023-12-07T08:01:17.122Z"
   },
   {
    "duration": 388,
    "start_time": "2023-12-07T08:01:17.616Z"
   },
   {
    "duration": 19,
    "start_time": "2023-12-07T08:01:18.005Z"
   },
   {
    "duration": 6,
    "start_time": "2023-12-07T08:01:18.025Z"
   },
   {
    "duration": 601,
    "start_time": "2023-12-07T08:01:18.032Z"
   },
   {
    "duration": 434,
    "start_time": "2023-12-07T08:01:18.635Z"
   },
   {
    "duration": 31,
    "start_time": "2023-12-07T08:01:19.071Z"
   },
   {
    "duration": 11,
    "start_time": "2023-12-07T08:01:19.114Z"
   },
   {
    "duration": 31,
    "start_time": "2023-12-07T08:01:19.126Z"
   },
   {
    "duration": 10,
    "start_time": "2023-12-07T08:01:19.158Z"
   },
   {
    "duration": 7,
    "start_time": "2023-12-07T08:01:19.169Z"
   },
   {
    "duration": 216,
    "start_time": "2023-12-07T08:01:19.177Z"
   },
   {
    "duration": 270,
    "start_time": "2023-12-07T08:01:19.394Z"
   },
   {
    "duration": 6,
    "start_time": "2023-12-07T08:01:19.665Z"
   },
   {
    "duration": 10,
    "start_time": "2023-12-07T08:01:19.672Z"
   },
   {
    "duration": 13,
    "start_time": "2023-12-07T08:01:19.683Z"
   },
   {
    "duration": 847,
    "start_time": "2023-12-07T08:01:19.697Z"
   },
   {
    "duration": 1494,
    "start_time": "2023-12-07T08:01:20.546Z"
   },
   {
    "duration": 4,
    "start_time": "2023-12-07T08:01:22.041Z"
   },
   {
    "duration": 11,
    "start_time": "2023-12-07T08:01:22.047Z"
   },
   {
    "duration": 5,
    "start_time": "2023-12-07T08:01:22.059Z"
   },
   {
    "duration": 147,
    "start_time": "2023-12-07T08:01:22.065Z"
   },
   {
    "duration": 4,
    "start_time": "2023-12-07T08:01:22.214Z"
   },
   {
    "duration": 17,
    "start_time": "2023-12-07T08:01:25.422Z"
   },
   {
    "duration": 48,
    "start_time": "2023-12-07T08:04:43.500Z"
   },
   {
    "duration": 60,
    "start_time": "2023-12-07T08:05:07.712Z"
   },
   {
    "duration": 10,
    "start_time": "2023-12-07T08:05:32.570Z"
   },
   {
    "duration": 8,
    "start_time": "2023-12-07T08:06:18.440Z"
   },
   {
    "duration": 6,
    "start_time": "2023-12-07T08:09:43.262Z"
   },
   {
    "duration": 1109,
    "start_time": "2023-12-07T08:11:36.863Z"
   },
   {
    "duration": 40,
    "start_time": "2023-12-07T08:11:37.974Z"
   },
   {
    "duration": 11,
    "start_time": "2023-12-07T08:11:38.016Z"
   },
   {
    "duration": 46,
    "start_time": "2023-12-07T08:11:38.029Z"
   },
   {
    "duration": 10,
    "start_time": "2023-12-07T08:11:38.077Z"
   },
   {
    "duration": 19,
    "start_time": "2023-12-07T08:11:38.089Z"
   },
   {
    "duration": 11,
    "start_time": "2023-12-07T08:11:38.110Z"
   },
   {
    "duration": 16,
    "start_time": "2023-12-07T08:11:38.123Z"
   },
   {
    "duration": 11,
    "start_time": "2023-12-07T08:11:38.141Z"
   },
   {
    "duration": 6,
    "start_time": "2023-12-07T08:11:38.154Z"
   },
   {
    "duration": 6,
    "start_time": "2023-12-07T08:11:38.162Z"
   },
   {
    "duration": 18,
    "start_time": "2023-12-07T08:11:38.169Z"
   },
   {
    "duration": 13,
    "start_time": "2023-12-07T08:11:38.188Z"
   },
   {
    "duration": 4,
    "start_time": "2023-12-07T08:11:38.215Z"
   },
   {
    "duration": 9,
    "start_time": "2023-12-07T08:11:38.221Z"
   },
   {
    "duration": 5,
    "start_time": "2023-12-07T08:11:38.231Z"
   },
   {
    "duration": 18,
    "start_time": "2023-12-07T08:11:38.238Z"
   },
   {
    "duration": 5,
    "start_time": "2023-12-07T08:11:38.259Z"
   },
   {
    "duration": 238,
    "start_time": "2023-12-07T08:11:38.266Z"
   },
   {
    "duration": 134,
    "start_time": "2023-12-07T08:11:38.505Z"
   },
   {
    "duration": 312,
    "start_time": "2023-12-07T08:11:38.641Z"
   },
   {
    "duration": 339,
    "start_time": "2023-12-07T08:11:38.955Z"
   },
   {
    "duration": 491,
    "start_time": "2023-12-07T08:11:39.295Z"
   },
   {
    "duration": 138,
    "start_time": "2023-12-07T08:11:39.787Z"
   },
   {
    "duration": 8,
    "start_time": "2023-12-07T08:11:39.926Z"
   },
   {
    "duration": 46,
    "start_time": "2023-12-07T08:11:39.935Z"
   },
   {
    "duration": 37,
    "start_time": "2023-12-07T08:11:39.983Z"
   },
   {
    "duration": 31,
    "start_time": "2023-12-07T08:11:40.024Z"
   },
   {
    "duration": 135,
    "start_time": "2023-12-07T08:11:40.057Z"
   },
   {
    "duration": 18,
    "start_time": "2023-12-07T08:11:40.193Z"
   },
   {
    "duration": 14,
    "start_time": "2023-12-07T08:11:40.215Z"
   },
   {
    "duration": 10,
    "start_time": "2023-12-07T08:11:40.230Z"
   },
   {
    "duration": 519,
    "start_time": "2023-12-07T08:11:40.242Z"
   },
   {
    "duration": 401,
    "start_time": "2023-12-07T08:11:40.762Z"
   },
   {
    "duration": 15,
    "start_time": "2023-12-07T08:11:41.164Z"
   },
   {
    "duration": 4,
    "start_time": "2023-12-07T08:11:41.180Z"
   },
   {
    "duration": 621,
    "start_time": "2023-12-07T08:11:41.185Z"
   },
   {
    "duration": 390,
    "start_time": "2023-12-07T08:11:41.807Z"
   },
   {
    "duration": 36,
    "start_time": "2023-12-07T08:11:42.198Z"
   },
   {
    "duration": 16,
    "start_time": "2023-12-07T08:11:42.236Z"
   },
   {
    "duration": 32,
    "start_time": "2023-12-07T08:11:42.253Z"
   },
   {
    "duration": 10,
    "start_time": "2023-12-07T08:11:42.286Z"
   },
   {
    "duration": 20,
    "start_time": "2023-12-07T08:11:42.298Z"
   },
   {
    "duration": 197,
    "start_time": "2023-12-07T08:11:42.319Z"
   },
   {
    "duration": 271,
    "start_time": "2023-12-07T08:11:42.518Z"
   },
   {
    "duration": 6,
    "start_time": "2023-12-07T08:11:42.791Z"
   },
   {
    "duration": 29,
    "start_time": "2023-12-07T08:11:42.798Z"
   },
   {
    "duration": 35,
    "start_time": "2023-12-07T08:11:42.829Z"
   },
   {
    "duration": 854,
    "start_time": "2023-12-07T08:11:42.865Z"
   },
   {
    "duration": 1552,
    "start_time": "2023-12-07T08:11:43.720Z"
   },
   {
    "duration": 5,
    "start_time": "2023-12-07T08:11:45.273Z"
   },
   {
    "duration": 9,
    "start_time": "2023-12-07T08:11:45.280Z"
   },
   {
    "duration": 11,
    "start_time": "2023-12-07T08:11:45.291Z"
   },
   {
    "duration": 159,
    "start_time": "2023-12-07T08:11:45.303Z"
   },
   {
    "duration": 5,
    "start_time": "2023-12-07T08:11:45.464Z"
   }
  ],
  "kernelspec": {
   "display_name": "Python 3 (ipykernel)",
   "language": "python",
   "name": "python3"
  },
  "language_info": {
   "codemirror_mode": {
    "name": "ipython",
    "version": 3
   },
   "file_extension": ".py",
   "mimetype": "text/x-python",
   "name": "python",
   "nbconvert_exporter": "python",
   "pygments_lexer": "ipython3",
   "version": "3.11.5"
  },
  "toc": {
   "base_numbering": 1,
   "nav_menu": {},
   "number_sections": true,
   "sideBar": true,
   "skip_h1_title": true,
   "title_cell": "Table of Contents",
   "title_sidebar": "Contents",
   "toc_cell": false,
   "toc_position": {},
   "toc_section_display": true,
   "toc_window_display": false
  }
 },
 "nbformat": 4,
 "nbformat_minor": 5
}
